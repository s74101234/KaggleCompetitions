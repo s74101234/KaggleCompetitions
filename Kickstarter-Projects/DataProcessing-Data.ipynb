{
 "cells": [
  {
   "cell_type": "markdown",
   "metadata": {},
   "source": [
    "# 資料說明"
   ]
  },
  {
   "cell_type": "code",
   "execution_count": 1,
   "metadata": {},
   "outputs": [],
   "source": [
    "import pandas as pd\n",
    "import numpy as np"
   ]
  },
  {
   "cell_type": "code",
   "execution_count": 2,
   "metadata": {
    "scrolled": true
   },
   "outputs": [
    {
     "name": "stdout",
     "output_type": "stream",
     "text": [
      "----------------------------------------\n",
      "Columns： ['ID', 'name', 'category', 'main_category', 'currency', 'deadline', 'goal', 'launched', 'pledged', 'state', 'backers', 'country', 'usd pledged', 'usd_pledged_real', 'usd_goal_real']\n",
      "----------------------------------------\n",
      "Shape： (378661, 15)\n",
      "----------------------------------------\n",
      "Null-Sum：\n",
      "name              4\n",
      "usd pledged    3797\n",
      "dtype: int64\n",
      "----------------------------------------\n",
      "unique number of each column\n",
      "ID ： 378661\n",
      "name ： 375765\n",
      "category ： 159\n",
      "main_category ： 15\n",
      "currency ： 14\n",
      "deadline ： 3164\n",
      "goal ： 8353\n",
      "launched ： 378089\n",
      "pledged ： 62130\n",
      "state ： 6\n",
      "backers ： 3963\n",
      "country ： 23\n",
      "usd pledged ： 95456\n",
      "usd_pledged_real ： 106065\n",
      "usd_goal_real ： 50339\n",
      "----------------------------------------\n"
     ]
    }
   ],
   "source": [
    "readPath = './Data2/ks-projects-201801.csv'\n",
    "writePath = './Data2/NewData.csv'\n",
    "Data = pd.read_csv(readPath)\n",
    "\n",
    "print('----------------------------------------')\n",
    "print('Columns：', list(Data.columns))\n",
    "\n",
    "print('----------------------------------------')\n",
    "print('Shape：', Data.shape)\n",
    "DataNull = Data.isnull().sum()\n",
    "\n",
    "print('----------------------------------------')\n",
    "print('Null-Sum：')\n",
    "print(DataNull[DataNull>0])\n",
    "\n",
    "print('----------------------------------------')\n",
    "print('unique number of each column')\n",
    "for Col in Data.columns:\n",
    "    print(Col, '：', len(Data[Col].unique()))\n",
    "print('----------------------------------------')\n",
    "\n",
    "# Kickstarter是一間於2009年在美國紐約成立、\n",
    "# 最初基於美國人後來拓展至各國的產品募資平台，\n",
    "# 它透過該網站進行公眾募資以提供人們進行創意專案的籌集資金。\n",
    "\n",
    "# explanation\n",
    "# ID ： internal kickstarter id\n",
    "# name ： name of project - A project is a finite work with a clear goal \n",
    "# 　　　　that you’d like to bring to life. Think albums, books, or films.\n",
    "# category ： category\n",
    "# main_category ： category of campaign\n",
    "# currency ： currency used to support\n",
    "# deadline ： deadline for crowdfunding\n",
    "# goal ： Goal amount in project currency\n",
    "# launched ： date launched\n",
    "# pledged ： Pledged amount in the project currency\n",
    "# state ： Current condition the project is in\n",
    "# backers ： number of backers\n",
    "# country ： country pledged from\n",
    "# usd pledged ： Pledged amount in USD (conversion made by KS)\n",
    "# usd_pledged_real ： Pledged amount in USD (conversion made by fixer.io api)\n",
    "# usd_goal_real ： Goal amount in USD"
   ]
  },
  {
   "cell_type": "markdown",
   "metadata": {},
   "source": [
    "# 資料前處理"
   ]
  },
  {
   "cell_type": "code",
   "execution_count": 3,
   "metadata": {},
   "outputs": [],
   "source": [
    "from sklearn.preprocessing import LabelEncoder\n",
    "def ConvertTypeToNumber(Data):\n",
    "#     print('Class：', Data.unique())\n",
    "    orgLabel = list(Data.unique())\n",
    "    classLE = LabelEncoder()\n",
    "    Data = classLE.fit_transform(Data.values)\n",
    "    NewLabel = list(pd.DataFrame(Data)[0].unique())\n",
    "    mappingLabel = [orgLabel, NewLabel]\n",
    "    return Data, mappingLabel\n",
    "\n",
    "def twoListSort(list1, list2):\n",
    "    zipped_lists = zip(list1, list2)\n",
    "    sorted_pairs = sorted(zipped_lists)\n",
    "    tuples = zip(*sorted_pairs)\n",
    "    list1, list2 = [ list(tuple) for tuple in  tuples]\n",
    "    return list1, list2\n",
    "\n",
    "def LEDef(Data, Type):\n",
    "    Data[Type], TempLabel = ConvertTypeToNumber(Data[Type])\n",
    "    TempLabel = twoListSort(TempLabel[1], TempLabel[0])\n",
    "    print(Type, ' ： ', TempLabel)\n",
    "    print('')\n",
    "    return Data\n",
    "\n",
    "def cutDef(Data, Type, qcutNum):\n",
    "    Data[Type] = pd.qcut(Data[Type], qcutNum)\n",
    "    Data[Type], TempLabel = ConvertTypeToNumber(Data[Type])\n",
    "    TempLabel = twoListSort(TempLabel[1], TempLabel[0])\n",
    "    print(Type, ' ： ', TempLabel)\n",
    "    print(Type, ' - counts：')\n",
    "    print(Data[Type].value_counts(normalize=True))\n",
    "    print('')\n",
    "    return Data\n",
    "\n",
    "import matplotlib.pyplot as plt\n",
    "def plotHistogram(Data, title, xLabel, yLabel):\n",
    "    fig, ax = plt.subplots(figsize = (4, 3))\n",
    "    DataCounts = Data.value_counts(normalize=False)\n",
    "    x = DataCounts.index\n",
    "    y = DataCounts\n",
    "    ax.bar(x, y)\n",
    "    ax.set_title(title)\n",
    "    ax.set_xlabel(xLabel)\n",
    "    ax.set_ylabel(yLabel)\n",
    "    plt.show()"
   ]
  },
  {
   "cell_type": "code",
   "execution_count": 4,
   "metadata": {
    "scrolled": true
   },
   "outputs": [
    {
     "name": "stdout",
     "output_type": "stream",
     "text": [
      "----------------------------------------\n",
      "Before：\n",
      "Columns： ['main_category', 'currency', 'deadline', 'launched', 'state', 'backers', 'country', 'usd_pledged_real', 'usd_goal_real']\n",
      "\n",
      "Shape： (378661, 9)\n",
      "\n",
      "NewData：\n",
      "  main_category currency    deadline             launched     state  backers  \\\n",
      "0    Publishing      GBP  2015-10-09  2015-08-11 12:12:28    failed        0   \n",
      "1  Film & Video      USD  2017-11-01  2017-09-02 04:43:57    failed       15   \n",
      "2  Film & Video      USD  2013-02-26  2013-01-12 00:20:50    failed        3   \n",
      "3         Music      USD  2012-04-16  2012-03-17 03:24:11    failed        1   \n",
      "4  Film & Video      USD  2015-08-29  2015-07-04 08:35:03  canceled       14   \n",
      "\n",
      "  country  usd_pledged_real  usd_goal_real  \n",
      "0      GB               0.0        1533.95  \n",
      "1      US            2421.0       30000.00  \n",
      "2      US             220.0       45000.00  \n",
      "3      US               1.0        5000.00  \n",
      "4      US            1283.0       19500.00  \n",
      "----------------------------------------\n",
      "----------------------------------------\n",
      "main_category\n",
      "['Book' 'Media' 'Others' 'Art' 'Games' 'Technology']\n",
      "Media         0.362316\n",
      "Art           0.237278\n",
      "Book          0.133874\n",
      "Games         0.093041\n",
      "Others        0.087479\n",
      "Technology    0.086011\n",
      "Name: main_category, dtype: float64\n"
     ]
    },
    {
     "data": {
      "image/png": "[encoded data removed]",
      "text/plain": [
       "<Figure size 288x216 with 1 Axes>"
      ]
     },
     "metadata": {
      "needs_background": "light"
     },
     "output_type": "display_data"
    },
    {
     "name": "stdout",
     "output_type": "stream",
     "text": [
      "currency\n",
      "['Other' 'USD']\n",
      "USD      0.780025\n",
      "Other    0.219975\n",
      "Name: currency, dtype: float64\n"
     ]
    },
    {
     "data": {
      "image/png": "[encoded data removed]",
      "text/plain": [
       "<Figure size 288x216 with 1 Axes>"
      ]
     },
     "metadata": {
      "needs_background": "light"
     },
     "output_type": "display_data"
    },
    {
     "name": "stdout",
     "output_type": "stream",
     "text": [
      "state\n",
      "['failed' 'Exception' 'successful']\n",
      "failed        0.522153\n",
      "successful    0.353762\n",
      "Exception     0.124085\n",
      "Name: state, dtype: float64\n"
     ]
    },
    {
     "data": {
      "image/png": "[encoded data removed]",
      "text/plain": [
       "<Figure size 288x216 with 1 Axes>"
      ]
     },
     "metadata": {
      "needs_background": "light"
     },
     "output_type": "display_data"
    },
    {
     "name": "stdout",
     "output_type": "stream",
     "text": [
      "country\n",
      "['Other' 'US']\n",
      "US       0.772794\n",
      "Other    0.227206\n",
      "Name: country, dtype: float64\n"
     ]
    },
    {
     "data": {
      "image/png": "[encoded data removed]",
      "text/plain": [
       "<Figure size 288x216 with 1 Axes>"
      ]
     },
     "metadata": {
      "needs_background": "light"
     },
     "output_type": "display_data"
    },
    {
     "name": "stdout",
     "output_type": "stream",
     "text": [
      "----------------------------------------\n",
      "----------------------------------------\n",
      "LEDef\n",
      "main_category  ：  ([0, 1, 2, 3, 4, 5], ['Art', 'Book', 'Games', 'Media', 'Others', 'Technology'])\n",
      "\n",
      "currency  ：  ([0, 1], ['Other', 'USD'])\n",
      "\n",
      "state  ：  ([0, 1, 2], ['Exception', 'failed', 'successful'])\n",
      "\n",
      "country  ：  ([0, 1], ['Other', 'US'])\n",
      "\n",
      "----------------------------------------\n",
      "----------------------------------------\n",
      "DateTime\n",
      "----------------------------------------\n",
      "----------------------------------------\n",
      "cut\n",
      "backers  ：  ([0, 1, 2], [Interval(-0.001, 3.0, closed='right'), Interval(3.0, 34.0, closed='right'), Interval(34.0, 219382.0, closed='right')])\n",
      "backers  - counts：\n",
      "0    0.342620\n",
      "2    0.332326\n",
      "1    0.325053\n",
      "Name: backers, dtype: float64\n",
      "\n",
      "usd_pledged_real  ：  ([0, 1, 2], [Interval(-0.001, 105.0, closed='right'), Interval(105.0, 2295.0, closed='right'), Interval(2295.0, 20338986.27, closed='right')])\n",
      "usd_pledged_real  - counts：\n",
      "0    0.333464\n",
      "2    0.333311\n",
      "1    0.333224\n",
      "Name: usd_pledged_real, dtype: float64\n",
      "\n",
      "usd_goal_real  ：  ([0, 1, 2], [Interval(0.009000000000000001, 3000.0, closed='right'), Interval(3000.0, 10000.0, closed='right'), Interval(10000.0, 166361390.71, closed='right')])\n",
      "usd_goal_real  - counts：\n",
      "0    0.348359\n",
      "2    0.328571\n",
      "1    0.323070\n",
      "Name: usd_goal_real, dtype: float64\n",
      "\n",
      "duration  ：  ([0, 1, 2], [Interval(436.999, 2523730.0, closed='right'), Interval(2523730.0, 2681995.0, closed='right'), Interval(2681995.0, 1446246000.0, closed='right')])\n",
      "duration  - counts：\n",
      "0    0.333346\n",
      "2    0.333330\n",
      "1    0.333325\n",
      "Name: duration, dtype: float64\n",
      "\n",
      "----------------------------------------\n",
      "----------------------------------------\n",
      "After：\n",
      "Columns： ['main_category', 'currency', 'state', 'backers', 'country', 'usd_pledged_real', 'usd_goal_real', 'duration']\n",
      "\n",
      "Shape： (378661, 8)\n",
      "\n",
      "NewData：\n",
      "   main_category  currency  state  backers  country  usd_pledged_real  \\\n",
      "0              1         0      1        0        0                 0   \n",
      "1              3         1      1        1        1                 2   \n",
      "2              3         1      1        0        1                 1   \n",
      "3              3         1      1        0        1                 0   \n",
      "4              3         1      0        1        1                 1   \n",
      "\n",
      "   usd_goal_real  duration  \n",
      "0              0         2  \n",
      "1              2         2  \n",
      "2              2         2  \n",
      "3              1         1  \n",
      "4              2         2  \n",
      "----------------------------------------\n"
     ]
    }
   ],
   "source": [
    "NewData = Data.drop(columns=['ID', 'name', 'category', 'goal', 'pledged', 'usd pledged'])\n",
    "print('----------------------------------------')\n",
    "print('Before：')\n",
    "print('Columns：', list(NewData.columns))\n",
    "print('')\n",
    "print('Shape：', NewData.shape)\n",
    "print('')\n",
    "print('NewData：')\n",
    "print(NewData.head(5))\n",
    "print('----------------------------------------')\n",
    "\n",
    "print('----------------------------------------')\n",
    "# main_category\n",
    "# Film & Video、Music、Theater、Photography\n",
    "# Publishing、Comics\n",
    "# Games\n",
    "# Technology\n",
    "# Design、Art、Fashion、Crafts\n",
    "# Food、Journalism、Dance\n",
    "NewData.loc[(NewData['main_category'] == 'Film & Video') |\n",
    "         (NewData['main_category'] == 'Music') |\n",
    "         (NewData['main_category'] == 'Theater') |\n",
    "         (NewData['main_category'] == 'Photography'), 'main_category'] = 'Media'\n",
    "\n",
    "NewData.loc[(NewData['main_category'] == 'Publishing') |\n",
    "         (NewData['main_category'] == 'Comics'), 'main_category'] = 'Book'\n",
    "\n",
    "NewData.loc[(NewData['main_category'] == 'Design') |\n",
    "         (NewData['main_category'] == 'Art') |\n",
    "         (NewData['main_category'] == 'Fashion') |\n",
    "         (NewData['main_category'] == 'Crafts'), 'main_category'] = 'Art'\n",
    "\n",
    "NewData.loc[(NewData['main_category'] == 'Food') |\n",
    "         (NewData['main_category'] == 'Journalism') |\n",
    "         (NewData['main_category'] == 'Dance'), 'main_category'] = 'Others'\n",
    "\n",
    "print('main_category')\n",
    "print(NewData['main_category'].unique())\n",
    "print(NewData['main_category'].value_counts(normalize=True))\n",
    "plotHistogram(NewData['main_category'], 'main_category', 'xLabel', 'yLabel')\n",
    "\n",
    "# currency： USD AND Other\n",
    "NewData.loc[NewData['currency'] != 'USD', 'currency'] = 'Other'\n",
    "print('currency')\n",
    "print(NewData['currency'].unique())\n",
    "print(NewData['currency'].value_counts(normalize=True))\n",
    "plotHistogram(NewData['currency'], 'currency', 'xLabel', 'yLabel')\n",
    "\n",
    "# state：failed、successful AND Exception\n",
    "NewData.loc[(NewData['state'] != 'failed') & (NewData['state'] != 'successful'), 'state'] = 'Exception'\n",
    "print('state')\n",
    "print(NewData['state'].unique())\n",
    "print(NewData['state'].value_counts(normalize=True))\n",
    "plotHistogram(NewData['state'], 'state', 'xLabel', 'yLabel')\n",
    "\n",
    "# currency： USD AND Other\n",
    "NewData.loc[NewData['country'] != 'US', 'country'] = 'Other'\n",
    "print('country')\n",
    "print(NewData['country'].unique())\n",
    "print(NewData['country'].value_counts(normalize=True))\n",
    "plotHistogram(NewData['country'], 'country', 'xLabel', 'yLabel')\n",
    "print('----------------------------------------')\n",
    "\n",
    "print('----------------------------------------')\n",
    "print('LEDef')\n",
    "NewData = LEDef(NewData, 'main_category')\n",
    "NewData = LEDef(NewData, 'currency')\n",
    "NewData = LEDef(NewData, 'state')\n",
    "NewData = LEDef(NewData, 'country')\n",
    "print('----------------------------------------')\n",
    "    \n",
    "print('----------------------------------------')\n",
    "print('DateTime')\n",
    "# DateTime\n",
    "# launched's hours removed\n",
    "# print(NewData['launched'].str.split(' ', expand=True).loc[:, 0])\n",
    "# NewData['launched'] = NewData['launched'].str.split(' ', expand=True).loc[:, 0]\n",
    "# print(NewData['launched'])\n",
    "\n",
    "# launched convert to timestamp\n",
    "NewData['launched'] = pd.to_datetime(NewData['launched']).values.astype(np.int64) // 10 ** 9\n",
    "# print(NewData['launched'])\n",
    "\n",
    "# deadline convert to timestamp\n",
    "NewData['deadline'] = pd.to_datetime(NewData['deadline']).values.astype(np.int64) // 10 ** 9\n",
    "# print(NewData['deadline'])\n",
    "\n",
    "# dealine - launched\n",
    "NewData['duration'] = NewData['deadline'] - NewData['launched']\n",
    "# print(NewData['duration'])\n",
    "\n",
    "NewData = NewData.drop(columns=['launched', 'deadline'])\n",
    "print('----------------------------------------')\n",
    "\n",
    "print('----------------------------------------')\n",
    "print('cut')\n",
    "NewData = cutDef(NewData, 'backers', 3)\n",
    "NewData = cutDef(NewData, 'usd_pledged_real', 3)\n",
    "NewData = cutDef(NewData, 'usd_goal_real', 3)\n",
    "NewData = cutDef(NewData, 'duration', 3)\n",
    "print('----------------------------------------')\n",
    "\n",
    "print('----------------------------------------')\n",
    "print('After：')\n",
    "print('Columns：', list(NewData.columns))\n",
    "print('')\n",
    "print('Shape：', NewData.shape)\n",
    "print('')\n",
    "print('NewData：')\n",
    "print(NewData.head(5))\n",
    "print('----------------------------------------')"
   ]
  },
  {
   "cell_type": "markdown",
   "metadata": {},
   "source": [
    "# Label Encode to OneHot Encode"
   ]
  },
  {
   "cell_type": "code",
   "execution_count": 5,
   "metadata": {
    "scrolled": true
   },
   "outputs": [
    {
     "name": "stdout",
     "output_type": "stream",
     "text": [
      "        main_category_0  main_category_1  main_category_2  main_category_3  \\\n",
      "0                     0                1                0                0   \n",
      "1                     0                0                0                1   \n",
      "2                     0                0                0                1   \n",
      "3                     0                0                0                1   \n",
      "4                     0                0                0                1   \n",
      "...                 ...              ...              ...              ...   \n",
      "378656                0                0                0                1   \n",
      "378657                0                0                0                1   \n",
      "378658                0                0                0                1   \n",
      "378659                0                0                0                0   \n",
      "378660                1                0                0                0   \n",
      "\n",
      "        main_category_4  main_category_5  currency_0  currency_1  state_0  \\\n",
      "0                     0                0           1           0        0   \n",
      "1                     0                0           0           1        0   \n",
      "2                     0                0           0           1        0   \n",
      "3                     0                0           0           1        0   \n",
      "4                     0                0           0           1        1   \n",
      "...                 ...              ...         ...         ...      ...   \n",
      "378656                0                0           0           1        1   \n",
      "378657                0                0           0           1        0   \n",
      "378658                0                0           0           1        0   \n",
      "378659                0                1           0           1        0   \n",
      "378660                0                0           0           1        0   \n",
      "\n",
      "        state_1  ...  country_1  usd_pledged_real_0  usd_pledged_real_1  \\\n",
      "0             1  ...          0                   1                   0   \n",
      "1             1  ...          1                   0                   0   \n",
      "2             1  ...          1                   0                   1   \n",
      "3             1  ...          1                   1                   0   \n",
      "4             0  ...          1                   0                   1   \n",
      "...         ...  ...        ...                 ...                 ...   \n",
      "378656        0  ...          1                   1                   0   \n",
      "378657        1  ...          1                   0                   1   \n",
      "378658        1  ...          1                   1                   0   \n",
      "378659        1  ...          1                   0                   1   \n",
      "378660        1  ...          1                   0                   1   \n",
      "\n",
      "        usd_pledged_real_2  usd_goal_real_0  usd_goal_real_1  usd_goal_real_2  \\\n",
      "0                        0                1                0                0   \n",
      "1                        1                0                0                1   \n",
      "2                        0                0                0                1   \n",
      "3                        0                0                1                0   \n",
      "4                        0                0                0                1   \n",
      "...                    ...              ...              ...              ...   \n",
      "378656                   0                0                0                1   \n",
      "378657                   0                1                0                0   \n",
      "378658                   0                0                0                1   \n",
      "378659                   0                0                0                1   \n",
      "378660                   0                1                0                0   \n",
      "\n",
      "        duration_0  duration_1  duration_2  \n",
      "0                0           0           1  \n",
      "1                0           0           1  \n",
      "2                0           0           1  \n",
      "3                0           1           0  \n",
      "4                0           0           1  \n",
      "...            ...         ...         ...  \n",
      "378656           0           1           0  \n",
      "378657           1           0           0  \n",
      "378658           0           0           1  \n",
      "378659           0           1           0  \n",
      "378660           1           0           0  \n",
      "\n",
      "[378661 rows x 25 columns]\n"
     ]
    }
   ],
   "source": [
    "NewData2 = pd.DataFrame()\n",
    "for Col in list(NewData.columns):\n",
    "    DataTemp = pd.get_dummies(NewData[Col], prefix = Col)\n",
    "    NewData2 = pd.concat([NewData2, DataTemp], axis=1)\n",
    "print(NewData2)"
   ]
  },
  {
   "cell_type": "markdown",
   "metadata": {},
   "source": [
    "# 輸出資料"
   ]
  },
  {
   "cell_type": "code",
   "execution_count": 6,
   "metadata": {},
   "outputs": [],
   "source": [
    "NewData2.to_csv(writePath, index = False)"
   ]
  }
 ],
 "metadata": {
  "kernelspec": {
   "display_name": "Python 3",
   "language": "python",
   "name": "python3"
  },
  "language_info": {
   "codemirror_mode": {
    "name": "ipython",
    "version": 3
   },
   "file_extension": ".py",
   "mimetype": "text/x-python",
   "name": "python",
   "nbconvert_exporter": "python",
   "pygments_lexer": "ipython3",
   "version": "3.6.10"
  }
 },
 "nbformat": 4,
 "nbformat_minor": 4
}
