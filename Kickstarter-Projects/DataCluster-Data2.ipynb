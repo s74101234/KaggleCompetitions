{
 "cells": [
  {
   "cell_type": "markdown",
   "metadata": {},
   "source": [
    "# Cluster"
   ]
  },
  {
   "cell_type": "code",
   "execution_count": 1,
   "metadata": {},
   "outputs": [],
   "source": [
    "import pandas as pd\n",
    "import numpy as np"
   ]
  },
  {
   "cell_type": "code",
   "execution_count": 2,
   "metadata": {},
   "outputs": [],
   "source": [
    "readPath = './Data2/NewData.csv'\n",
    "PDData = pd.read_csv(readPath)"
   ]
  },
  {
   "cell_type": "markdown",
   "metadata": {},
   "source": [
    "# silhouette_score\n",
    "silhouette_score\n",
    "側影函數 (Silhouette) 是一種解釋和驗證數據集群內一致性的方法。\n",
    "該技術為每個對象的分類情況提供了簡潔的圖形表示。\n",
    "輪廓值是對象與其自己的聚類相比於其他聚類的相似程度的度量。\n",
    "輪廓範圍從-1到+1，其中較高的值表示對象與其自身的聚類匹配良好，而與相鄰的聚類匹配不良。\n",
    "\n",
    "# davies_bouldin_score\n",
    "Davies–Bouldin Index 是評估聚類算法的指標。這是一種內部評估方案，\n",
    "在該方案中，將使用數據集固有的數量和特徵來驗證進行聚類的程度。\n",
    "其中較低的Davies-Bouldin Idex與具有更好群集分離度的模型有關。"
   ]
  },
  {
   "cell_type": "code",
   "execution_count": 3,
   "metadata": {},
   "outputs": [],
   "source": [
    "import matplotlib.pyplot as plt\n",
    "from sklearn.metrics import silhouette_score, davies_bouldin_score\n",
    "from sklearn.cluster import KMeans, AgglomerativeClustering, DBSCAN, Birch\n",
    "from sklearn.mixture import GaussianMixture\n",
    "def MeasureEvaluate(Data, ClusterFun, Min, Max, MeasureFun):\n",
    "    MeasureAvg = []\n",
    "    bestNum = 0\n",
    "    MaxScore = 0\n",
    "    MinScore = 99\n",
    "    for Num_Clusters in range(Min, Max, 1):\n",
    "        #----------------------------------------\n",
    "        # ClusterFun\n",
    "        if(ClusterFun == 'kmeans'):\n",
    "            Model = KMeans(n_clusters = Num_Clusters)\n",
    "            y_pred = Model.fit_predict(Data)\n",
    "        elif(ClusterFun == 'AgglomerativeClustering'):\n",
    "            Model = AgglomerativeClustering(n_clusters = Num_Clusters)\n",
    "            y_pred = Model.fit_predict(Data)\n",
    "        elif(ClusterFun == 'DBSCAN'):\n",
    "            Model = DBSCAN(eps = Num_Clusters/10)\n",
    "            y_pred = Model.fit_predict(Data)\n",
    "        elif(ClusterFun == 'Birch'):\n",
    "            Model = Birch(n_clusters = Num_Clusters)\n",
    "            y_pred = Model.fit_predict(Data)\n",
    "        elif(ClusterFun == 'GaussianMixture'):\n",
    "            Model = GaussianMixture(n_components = Num_Clusters)\n",
    "            y_pred = Model.fit_predict(Data)\n",
    "        #----------------------------------------\n",
    "        \n",
    "        #----------------------------------------\n",
    "        # MeasureFun\n",
    "        if(MeasureFun == 'silhouette_score'):\n",
    "            Score = silhouette_score(Data, y_pred)\n",
    "            if(Score > MaxScore):\n",
    "                bestNum = Num_Clusters\n",
    "                MaxScore = Score\n",
    "        elif(MeasureFun == 'davies_bouldin_score'):\n",
    "            Score = davies_bouldin_score(Data, y_pred)\n",
    "            if(Score < MinScore):\n",
    "                bestNum = Num_Clusters\n",
    "                MinScore = Score\n",
    "        MeasureAvg.append(Score)\n",
    "        #----------------------------------------\n",
    "        \n",
    "        print(Num_Clusters, Score)\n",
    "        \n",
    "    fig1, ax1 = plt.subplots()\n",
    "    ax1.plot(range(Min, Max, 1), MeasureAvg)\n",
    "    return bestNum\n",
    "    \n",
    "# def SSEEvaluate(Data, ClusterFun, Min, Max):\n",
    "#     SSEAvg = []\n",
    "#     for Num_Clusters in range(Min, Max, 1):\n",
    "#         if(ClusterFun == 'kmeans'):\n",
    "#             kmeans = KMeans(n_clusters = Num_Clusters)\n",
    "#             kmeans.fit(Data)\n",
    "#             y_kmeans = kmeans.predict(Data)\n",
    "#             Score = kmeans.inertia_\n",
    "#             SSEAvg.append(Score)\n",
    "#             print(Num_Clusters, Score)\n",
    "#     fig1, ax1 = plt.subplots()\n",
    "#     ax1.plot(range(Min, Max, 1), SSEAvg)\n",
    "\n",
    "def ExcuteCluster(Data, ClusterFun, Num_Clusters):\n",
    "    if(ClusterFun == 'kmeans'):\n",
    "        Model = KMeans(n_clusters = Num_Clusters)\n",
    "        y_pred = Model.fit_predict(Data)\n",
    "    elif(ClusterFun == 'AgglomerativeClustering'):\n",
    "        Model = AgglomerativeClustering(n_clusters = Num_Clusters)\n",
    "        y_pred = Model.fit_predict(Data)\n",
    "    elif(ClusterFun == 'DBSCAN'):\n",
    "        Model = DBSCAN(eps = Num_Clusters/10)\n",
    "        y_pred = Model.fit_predict(Data)\n",
    "    elif(ClusterFun == 'Birch'):\n",
    "        Model = Birch(n_clusters = Num_Clusters)\n",
    "        y_pred = Model.fit_predict(Data)\n",
    "    elif(ClusterFun == 'GaussianMixture'):\n",
    "        Model = GaussianMixture(n_components = Num_Clusters)\n",
    "        y_pred = Model.fit_predict(Data)\n",
    "    Data['Group'] = y_pred\n",
    "    return Data\n",
    "\n",
    "import numpy as np\n",
    "def DataFrameConvert(Data, KeyWord):\n",
    "    ListColumns = list(Data.columns)\n",
    "    ListColumns.remove(KeyWord)\n",
    "    ListColumns.insert(0, 'Number')\n",
    "    NewData = pd.DataFrame(data = ListColumns, columns = ['Columns'])\n",
    "#     --------------------------------\n",
    "# Full Data\n",
    "    TotalNum = len(Data)\n",
    "    Temp = Data.sum(axis = 0, skipna = True)\n",
    "    Temp = Temp.drop(labels=[KeyWord])\n",
    "    Temp = Temp.values / TotalNum\n",
    "    Temp = np.insert(Temp, 0, TotalNum)\n",
    "    NewData['Full Data'] = Temp\n",
    "#     --------------------------------\n",
    "    KeyList = list(Data[KeyWord].unique())\n",
    "    KeyList.sort()\n",
    "    for Key in KeyList:\n",
    "        TotalNum = len(Data[Data[KeyWord] == Key])\n",
    "        Temp = Data[Data[KeyWord] == Key].sum(axis = 0, skipna = True)\n",
    "        Temp = Temp.drop(labels=[KeyWord])\n",
    "        Temp = Temp.values / TotalNum\n",
    "        Temp = np.insert(Temp, 0, TotalNum)\n",
    "        ColValue = Temp\n",
    "        NewData[Key] = ColValue\n",
    "#     --------------------------------\n",
    "    return NewData"
   ]
  },
  {
   "cell_type": "markdown",
   "metadata": {},
   "source": [
    "# Partitioning - KMeans\n",
    "K-平均演算法（英文：k-means clustering）源於訊號處理中的一種向量量化方法，\n",
    "現在則更多地作為一種聚類分析方法流行於資料探勘領域。\n",
    "k-平均聚類的目的是：把n個點（可以是樣本的一次觀察或一個實例）劃分到k個聚類中，\n",
    "使得每個點都屬於離他最近的均值（此即聚類中心）對應的聚類，以之作為聚類的標準。"
   ]
  },
  {
   "cell_type": "code",
   "execution_count": 4,
   "metadata": {
    "scrolled": true
   },
   "outputs": [
    {
     "name": "stdout",
     "output_type": "stream",
     "text": [
      "-----------------------------------------------------------------\n",
      "2 2.09935191144594\n",
      "3 1.8992485914932875\n",
      "4 1.7583934443737759\n",
      "5 1.7437168323968304\n",
      "6 1.8957093660308202\n",
      "7 1.9455874293217836\n",
      "8 2.113873359165133\n",
      "9 2.035540617671184\n",
      "10 1.9964951158816135\n",
      "kmeans  bestNumber ：  5\n",
      "               Columns      Full Data             0             1  \\\n",
      "0               Number  378661.000000  89313.000000  35730.000000   \n",
      "1      main_category_0       0.237278      0.232956      0.236076   \n",
      "2      main_category_1       0.133874      0.155565      0.151078   \n",
      "3      main_category_2       0.093041      0.054259      0.052785   \n",
      "4      main_category_3       0.362316      0.365333      0.478366   \n",
      "5      main_category_4       0.087479      0.107957      0.060397   \n",
      "6      main_category_5       0.086011      0.083930      0.021299   \n",
      "7           currency_0       0.219975      0.000000      0.000000   \n",
      "8           currency_1       0.780025      1.000000      1.000000   \n",
      "9              state_0       0.124085      0.183075      0.070445   \n",
      "10             state_1       0.522153      0.811886      0.000756   \n",
      "11             state_2       0.353762      0.005038      0.928799   \n",
      "12           backers_0       0.342620      0.971919      0.023398   \n",
      "13           backers_1       0.325053      0.028036      0.734509   \n",
      "14           backers_2       0.332326      0.000045      0.242093   \n",
      "15           country_0       0.227206      0.011096      0.004674   \n",
      "16           country_1       0.772794      0.988904      0.995326   \n",
      "17  usd_pledged_real_0       0.333464      0.986676      0.016569   \n",
      "18  usd_pledged_real_1       0.333224      0.012271      0.890008   \n",
      "19  usd_pledged_real_2       0.333311      0.001052      0.093423   \n",
      "20     usd_goal_real_0       0.348359      0.398520      1.000000   \n",
      "21     usd_goal_real_1       0.323070      0.302576      0.000000   \n",
      "22     usd_goal_real_2       0.328571      0.298904      0.000000   \n",
      "23          duration_0       0.333346      0.357272      0.478869   \n",
      "24          duration_1       0.333325      0.335315      0.276182   \n",
      "25          duration_2       0.333330      0.307413      0.244948   \n",
      "\n",
      "               2             3             4  \n",
      "0   76354.000000  84812.000000  92452.000000  \n",
      "1       0.244034      0.266637      0.209406  \n",
      "2       0.137570      0.115668      0.119922  \n",
      "3       0.093682      0.124923      0.116287  \n",
      "4       0.335975      0.287294      0.405129  \n",
      "5       0.097009      0.075638      0.081156  \n",
      "6       0.091731      0.129840      0.068100  \n",
      "7       0.000000      0.982125      0.000000  \n",
      "8       1.000000      0.017875      1.000000  \n",
      "9       0.125953      0.172405      0.041957  \n",
      "10      0.874047      0.537707      0.138872  \n",
      "11      0.000000      0.289888      0.819171  \n",
      "12      0.096878      0.408279      0.000779  \n",
      "13      0.847343      0.314071      0.032471  \n",
      "14      0.055780      0.277649      0.966750  \n",
      "15      0.000210      1.000000      0.000519  \n",
      "16      0.999790      0.000000      0.999481  \n",
      "17      0.067934      0.381632      0.000011  \n",
      "18      0.856655      0.328656      0.000000  \n",
      "19      0.075412      0.289711      0.999989  \n",
      "20      0.203775      0.344916      0.170629  \n",
      "21      0.398538      0.288403      0.437200  \n",
      "22      0.397687      0.366682      0.392171  \n",
      "23      0.277903      0.330873      0.302049  \n",
      "24      0.321306      0.362814      0.336358  \n",
      "25      0.400791      0.306313      0.361593  \n",
      "-----------------------------------------------------------------\n"
     ]
    },
    {
     "data": {
      "image/png": "[encoded data removed]",
      "text/plain": [
       "<Figure size 432x288 with 1 Axes>"
      ]
     },
     "metadata": {
      "needs_background": "light"
     },
     "output_type": "display_data"
    }
   ],
   "source": [
    "MinNum = 2\n",
    "MaxNum = 11\n",
    "NewData = pd.DataFrame(PDData.values, columns=PDData.columns)\n",
    "# print(NewData.head())\n",
    "print('-----------------------------------------------------------------')\n",
    "ClusterFun = 'kmeans'\n",
    "MeasureFun = 'davies_bouldin_score'#silhouette_score, davies_bouldin_score\n",
    "bestNum = MeasureEvaluate(NewData, ClusterFun, MinNum, MaxNum, MeasureFun)\n",
    "print(ClusterFun, ' bestNumber ： ', bestNum)\n",
    "NewData = ExcuteCluster(NewData, ClusterFun, bestNum)\n",
    "ConvData = DataFrameConvert(NewData, 'Group')\n",
    "print(ConvData)\n",
    "print('-----------------------------------------------------------------')"
   ]
  },
  {
   "cell_type": "code",
   "execution_count": 5,
   "metadata": {
    "scrolled": true
   },
   "outputs": [
    {
     "name": "stdout",
     "output_type": "stream",
     "text": [
      "               Columns      Full Data             0             1             2             3             4\n",
      "0               Number  378661.000000  84812.000000  92452.000000  86341.000000  35812.000000  79244.000000\n",
      "1      main_category_0       0.237278      0.266637      0.209406      0.228999      0.236373      0.247804\n",
      "2      main_category_1       0.133874      0.115668      0.119922      0.152986      0.151513      0.140843\n",
      "3      main_category_2       0.093041      0.124923      0.116287      0.052617      0.053334      0.093786\n",
      "4      main_category_3       0.362316      0.287294      0.405129      0.372396      0.477270      0.329728\n",
      "5      main_category_4       0.087479      0.075638      0.081156      0.108129      0.060259      0.097332\n",
      "6      main_category_5       0.086011      0.129840      0.068100      0.084873      0.021250      0.090505\n",
      "7           currency_0       0.219975      0.982125      0.000000      0.000000      0.000000      0.000000\n",
      "8           currency_1       0.780025      0.017875      1.000000      1.000000      1.000000      1.000000\n",
      "9              state_0       0.124085      0.172405      0.041957      0.187524      0.072573      0.122344\n",
      "10             state_1       0.522153      0.537707      0.138872      0.807264      0.000754      0.877656\n",
      "11             state_2       0.353762      0.289888      0.819171      0.005212      0.926673      0.000000\n",
      "12           backers_0       0.342620      0.408279      0.000779      0.996027      0.023344      0.103528\n",
      "13           backers_1       0.325053      0.314071      0.032471      0.003926      0.735117      0.842726\n",
      "14           backers_2       0.332326      0.277649      0.966750      0.000046      0.241539      0.053745\n",
      "15           country_0       0.227206      1.000000      0.000519      0.011478      0.004663      0.000202\n",
      "16           country_1       0.772794      0.000000      0.999481      0.988522      0.995337      0.999798\n",
      "17  usd_pledged_real_0       0.333464      0.381632      0.000011      0.995564      0.018821      0.091742\n",
      "18  usd_pledged_real_1       0.333224      0.328656      0.000000      0.003347      0.887971      0.835596\n",
      "19  usd_pledged_real_2       0.333311      0.289711      0.999989      0.001089      0.093209      0.072662\n",
      "20     usd_goal_real_0       0.348359      0.344916      0.170629      0.377816      1.000000      0.232813\n",
      "21     usd_goal_real_1       0.323070      0.288403      0.437200      0.312992      0.000000      0.384004\n",
      "22     usd_goal_real_2       0.328571      0.366682      0.392171      0.309193      0.000000      0.383184\n",
      "23          duration_0       0.333346      0.330873      0.302049      0.353447      0.477773      0.285334\n",
      "24          duration_1       0.333325      0.362814      0.336358      0.329461      0.277840      0.327507\n",
      "25          duration_2       0.333330      0.306313      0.361593      0.317092      0.244387      0.387159\n"
     ]
    }
   ],
   "source": [
    "pd.set_option('expand_frame_repr', False)\n",
    "bestNum = 5\n",
    "ClusterFun = 'kmeans'\n",
    "NewData = pd.DataFrame(PDData.values, columns=PDData.columns)\n",
    "NewData = ExcuteCluster(NewData, ClusterFun, bestNum)\n",
    "ConvData = DataFrameConvert(NewData, 'Group')\n",
    "print(ConvData)"
   ]
  },
  {
   "cell_type": "markdown",
   "metadata": {},
   "source": [
    "# GaussianMixture\n",
    "為單一高斯概率密度函數的延伸，用多個高斯概率密度函數（常態分布曲線）精確地量化變量分布，\n",
    "是將變量分布分解為若干基於高斯概率密度函數（常態分布曲線）分布的統計模型。"
   ]
  },
  {
   "cell_type": "code",
   "execution_count": 6,
   "metadata": {
    "scrolled": true
   },
   "outputs": [
    {
     "name": "stdout",
     "output_type": "stream",
     "text": [
      "-----------------------------------------------------------------\n",
      "2 2.2578711810314553\n",
      "3 3.3298364879183118\n",
      "4 2.6907584164760308\n",
      "5 1.8928356324465363\n",
      "6 1.9569910379112232\n",
      "7 2.27588394361223\n",
      "8 2.4537345565085045\n",
      "9 1.9731108477442563\n",
      "10 1.9739494689355017\n",
      "GaussianMixture  bestNumber ：  5\n",
      "               Columns      Full Data              0             1  \\\n",
      "0               Number  378661.000000  106715.000000  61012.000000   \n",
      "1      main_category_0       0.237278       0.234400      0.232381   \n",
      "2      main_category_1       0.133874       0.149820      0.080001   \n",
      "3      main_category_2       0.093041       0.062456      0.125926   \n",
      "4      main_category_3       0.362316       0.348742      0.328132   \n",
      "5      main_category_4       0.087479       0.104709      0.102193   \n",
      "6      main_category_5       0.086011       0.099873      0.131368   \n",
      "7           currency_0       0.219975       0.000000      0.000000   \n",
      "8           currency_1       0.780025       1.000000      1.000000   \n",
      "9              state_0       0.124085       0.206269      0.126188   \n",
      "10             state_1       0.522153       0.793731      0.498885   \n",
      "11             state_2       0.353762       0.000000      0.374926   \n",
      "12           backers_0       0.342620       0.871236      0.000000   \n",
      "13           backers_1       0.325053       0.128764      0.383138   \n",
      "14           backers_2       0.332326       0.000000      0.616862   \n",
      "15           country_0       0.227206       0.000000      0.000000   \n",
      "16           country_1       0.772794       1.000000      1.000000   \n",
      "17  usd_pledged_real_0       0.333464       0.862662      0.000000   \n",
      "18  usd_pledged_real_1       0.333224       0.137338      0.333672   \n",
      "19  usd_pledged_real_2       0.333311       0.000000      0.666328   \n",
      "20     usd_goal_real_0       0.348359       0.365656      0.000000   \n",
      "21     usd_goal_real_1       0.323070       0.332465      0.000000   \n",
      "22     usd_goal_real_2       0.328571       0.301879      1.000000   \n",
      "23          duration_0       0.333346       0.340468      0.228103   \n",
      "24          duration_1       0.333325       0.330169      0.336540   \n",
      "25          duration_2       0.333330       0.329363      0.435357   \n",
      "\n",
      "              2              3             4  \n",
      "0   1515.000000  123385.000000  86034.000000  \n",
      "1      0.310891       0.223447      0.262861  \n",
      "2      0.111551       0.158836      0.116896  \n",
      "3      0.063366       0.082603      0.123149  \n",
      "4      0.310891       0.438870      0.294511  \n",
      "5      0.143894       0.073607      0.074575  \n",
      "6      0.059406       0.022636      0.128008  \n",
      "7      0.000000       0.000000      0.968175  \n",
      "8      1.000000       1.000000      0.031825  \n",
      "9      0.154455       0.010714      0.182707  \n",
      "10     0.046865       0.298651      0.530697  \n",
      "11     0.798680       0.690635      0.286596  \n",
      "12     0.603300       0.000000      0.416684  \n",
      "13     0.389439       0.476079      0.309610  \n",
      "14     0.007261       0.523921      0.273706  \n",
      "15     0.000000       0.000000      1.000000  \n",
      "16     1.000000       1.000000      0.000000  \n",
      "17     0.563036       0.000000      0.387730  \n",
      "18     0.224422       0.508773      0.326034  \n",
      "19     0.212541       0.491227      0.286236  \n",
      "20     0.795380       0.501204      0.346874  \n",
      "21     0.148515       0.498796      0.291582  \n",
      "22     0.056106       0.000000      0.361543  \n",
      "23     0.481848       0.377963      0.332543  \n",
      "24     0.297030       0.315095      0.361741  \n",
      "25     0.221122       0.306942      0.305716  \n",
      "-----------------------------------------------------------------\n"
     ]
    },
    {
     "data": {
      "image/png": "[encoded data removed]",
      "text/plain": [
       "<Figure size 432x288 with 1 Axes>"
      ]
     },
     "metadata": {
      "needs_background": "light"
     },
     "output_type": "display_data"
    }
   ],
   "source": [
    "MinNum = 2\n",
    "MaxNum = 11\n",
    "NewData = pd.DataFrame(PDData.values, columns=PDData.columns)\n",
    "# print(NewData.head())\n",
    "print('-----------------------------------------------------------------')\n",
    "ClusterFun = 'GaussianMixture'\n",
    "MeasureFun = 'davies_bouldin_score'#silhouette_score, davies_bouldin_score\n",
    "bestNum = MeasureEvaluate(NewData, ClusterFun, MinNum, MaxNum, MeasureFun)\n",
    "print(ClusterFun, ' bestNumber ： ', bestNum)\n",
    "NewData = ExcuteCluster(NewData, ClusterFun, bestNum)\n",
    "ConvData = DataFrameConvert(NewData, 'Group')\n",
    "print(ConvData)\n",
    "print('-----------------------------------------------------------------')"
   ]
  },
  {
   "cell_type": "code",
   "execution_count": 7,
   "metadata": {
    "scrolled": true
   },
   "outputs": [
    {
     "name": "stdout",
     "output_type": "stream",
     "text": [
      "               Columns      Full Data             0              1             2             3             4\n",
      "0               Number  378661.000000  38532.000000  156274.000000  49944.000000  66298.000000  67613.000000\n",
      "1      main_category_0       0.237278      0.240579       0.238626      0.237846      0.255965      0.213539\n",
      "2      main_category_1       0.133874      0.151381       0.149558      0.134030      0.114845      0.106193\n",
      "3      main_category_2       0.093041      0.070383       0.069941      0.148246      0.105720      0.106133\n",
      "4      main_category_3       0.362316      0.436261       0.353654      0.322481      0.309240      0.421664\n",
      "5      main_category_4       0.087479      0.066205       0.103293      0.069298      0.082853      0.081020\n",
      "6      main_category_5       0.086011      0.035192       0.084928      0.088099      0.131377      0.071451\n",
      "7           currency_0       0.219975      0.000000       0.000000      0.395163      0.958702      0.000000\n",
      "8           currency_1       0.780025      1.000000       1.000000      0.604837      0.041298      1.000000\n",
      "9              state_0       0.124085      0.031688       0.162490      0.053059      0.215406      0.050893\n",
      "10             state_1       0.522153      0.133603       0.837510      0.160039      0.637802      0.168784\n",
      "11             state_2       0.353762      0.834709       0.000000      0.786901      0.146792      0.780323\n",
      "12           backers_0       0.342620      0.023721       0.594942      0.000000      0.540725      0.000000\n",
      "13           backers_1       0.325053      0.641129       0.405058      0.000000      0.401777      0.124887\n",
      "14           backers_2       0.332326      0.335150       0.000000      1.000000      0.057498      0.875113\n",
      "15           country_0       0.227206      0.000000       0.000000      0.395163      1.000000      0.000000\n",
      "16           country_1       0.772794      1.000000       1.000000      0.604837      0.000000      1.000000\n",
      "17  usd_pledged_real_0       0.333464      0.022137       0.589087      0.000000      0.503152      0.000000\n",
      "18  usd_pledged_real_1       0.333224      0.880152       0.410913      0.000000      0.423090      0.000000\n",
      "19  usd_pledged_real_2       0.333311      0.097711       0.000000      1.000000      0.073758      1.000000\n",
      "20     usd_goal_real_0       0.348359      0.829726       0.332455      0.164164      0.401400      0.194844\n",
      "21     usd_goal_real_1       0.323070      0.089510       0.341157      0.396804      0.271562      0.410409\n",
      "22     usd_goal_real_2       0.328571      0.080764       0.326388      0.439032      0.327039      0.394747\n",
      "23          duration_0       0.333346      0.419262       0.325192      0.114488      0.345289      0.453182\n",
      "24          duration_1       0.333325      0.354043       0.327918      0.753003      0.357809      0.000000\n",
      "25          duration_2       0.333330      0.226695       0.346891      0.132508      0.296902      0.546818\n"
     ]
    }
   ],
   "source": [
    "pd.set_option('expand_frame_repr', False)\n",
    "bestNum = 5\n",
    "ClusterFun = 'GaussianMixture'\n",
    "NewData = pd.DataFrame(PDData.values, columns=PDData.columns)\n",
    "NewData = ExcuteCluster(NewData, ClusterFun, bestNum)\n",
    "ConvData = DataFrameConvert(NewData, 'Group')\n",
    "print(ConvData)"
   ]
  },
  {
   "cell_type": "markdown",
   "metadata": {},
   "source": [
    "# Birch\n",
    "BIRCH（英文全稱：balanced iterative reducing and clustering using hierarchies，中文：利用層次方法的平衡疊代規約和聚類）\n",
    "是一個非監督式分層聚類算法，於1996年由 Tian Zhang 提出。\n",
    "算法的優勢在於能夠利用有限的內存資源完成對大數據集的高質量的聚類。\n",
    "該算法通過構建聚類特徵樹（Clustering Feature Tree，簡稱CF Tree），在接下來的聚類過程中，\n",
    "直接對聚類特徵進行聚類，而無需對原始數據集進行聚類。\n",
    "因此在多數情況下只需要掃描一次資料庫即可進行聚類，IO成本與數據集尺寸呈線性關係。"
   ]
  },
  {
   "cell_type": "code",
   "execution_count": 8,
   "metadata": {
    "scrolled": true
   },
   "outputs": [
    {
     "name": "stdout",
     "output_type": "stream",
     "text": [
      "-----------------------------------------------------------------\n",
      "2 2.027485515424476\n",
      "3 2.184037690376394\n",
      "4 2.059475201030065\n",
      "5 2.302005978826638\n",
      "6 2.3373943196962124\n",
      "7 2.366929799311258\n",
      "8 2.660285387594262\n",
      "9 2.64087670113829\n",
      "10 2.5315313178892085\n",
      "Birch  bestNumber ：  2\n",
      "               Columns      Full Data             0              1\n",
      "0               Number  378661.000000  86014.000000  292647.000000\n",
      "1      main_category_0       0.237278      0.262922       0.229741\n",
      "2      main_category_1       0.133874      0.116911       0.138860\n",
      "3      main_category_2       0.093041      0.123178       0.084183\n",
      "4      main_category_3       0.362316      0.294382       0.382283\n",
      "5      main_category_4       0.087479      0.074593       0.091267\n",
      "6      main_category_5       0.086011      0.128014       0.073666\n",
      "7           currency_0       0.219975      0.968400       0.000000\n",
      "8           currency_1       0.780025      0.031600       1.000000\n",
      "9              state_0       0.124085      0.182738       0.106845\n",
      "10             state_1       0.522153      0.530600       0.519670\n",
      "11             state_2       0.353762      0.286663       0.373484\n",
      "12           backers_0       0.342620      0.416548       0.320892\n",
      "13           backers_1       0.325053      0.309682       0.329571\n",
      "14           backers_2       0.332326      0.273769       0.349537\n",
      "15           country_0       0.227206      0.999965       0.000079\n",
      "16           country_1       0.772794      0.000035       0.999921\n",
      "17  usd_pledged_real_0       0.333464      0.387600       0.317553\n",
      "18  usd_pledged_real_1       0.333224      0.326086       0.335322\n",
      "19  usd_pledged_real_2       0.333311      0.286314       0.347125\n",
      "20     usd_goal_real_0       0.348359      0.346932       0.348779\n",
      "21     usd_goal_real_1       0.323070      0.291499       0.332349\n",
      "22     usd_goal_real_2       0.328571      0.361569       0.318872\n",
      "23          duration_0       0.333346      0.332539       0.333583\n",
      "24          duration_1       0.333325      0.361720       0.324979\n",
      "25          duration_2       0.333330      0.305741       0.341439\n",
      "-----------------------------------------------------------------\n"
     ]
    },
    {
     "data": {
      "image/png": "[encoded data removed]",
      "text/plain": [
       "<Figure size 432x288 with 1 Axes>"
      ]
     },
     "metadata": {
      "needs_background": "light"
     },
     "output_type": "display_data"
    }
   ],
   "source": [
    "MinNum = 2\n",
    "MaxNum = 11\n",
    "NewData = pd.DataFrame(PDData.values, columns=PDData.columns)\n",
    "# print(NewData.head())\n",
    "print('-----------------------------------------------------------------')\n",
    "ClusterFun = 'Birch'\n",
    "MeasureFun = 'davies_bouldin_score'#silhouette_score, davies_bouldin_score\n",
    "bestNum = MeasureEvaluate(NewData, ClusterFun, MinNum, MaxNum, MeasureFun)\n",
    "print(ClusterFun, ' bestNumber ： ', bestNum)\n",
    "NewData = ExcuteCluster(NewData, ClusterFun, bestNum)\n",
    "ConvData = DataFrameConvert(NewData, 'Group')\n",
    "print(ConvData)\n",
    "print('-----------------------------------------------------------------')"
   ]
  },
  {
   "cell_type": "code",
   "execution_count": 9,
   "metadata": {
    "scrolled": true
   },
   "outputs": [
    {
     "name": "stdout",
     "output_type": "stream",
     "text": [
      "               Columns      Full Data              0             1             2             3\n",
      "0               Number  378661.000000  292647.000000  31583.000000  31872.000000  22559.000000\n",
      "1      main_category_0       0.237278       0.229741      0.279961      0.223896      0.294206\n",
      "2      main_category_1       0.133874       0.138860      0.108254      0.126004      0.116184\n",
      "3      main_category_2       0.093041       0.084183      0.143558      0.076368      0.160778\n",
      "4      main_category_3       0.362316       0.382283      0.266567      0.349492      0.255463\n",
      "5      main_category_4       0.087479       0.091267      0.073109      0.094848      0.048052\n",
      "6      main_category_5       0.086011       0.073666      0.128550      0.129393      0.125316\n",
      "7           currency_0       0.219975       0.000000      0.999747      0.914972      1.000000\n",
      "8           currency_1       0.780025       1.000000      0.000253      0.085028      0.000000\n",
      "9              state_0       0.124085       0.106845      0.133331      0.317959      0.060863\n",
      "10             state_1       0.522153       0.519670      0.614729      0.669365      0.216765\n",
      "11             state_2       0.353762       0.373484      0.251939      0.012676      0.722372\n",
      "12           backers_0       0.342620       0.320892      0.130228      0.994258      0.001197\n",
      "13           backers_1       0.325053       0.329571      0.745844      0.005742      0.128463\n",
      "14           backers_2       0.332326       0.349537      0.123927      0.000000      0.870340\n",
      "15           country_0       0.227206       0.000079      1.000000      0.999906      1.000000\n",
      "16           country_1       0.772794       0.999921      0.000000      0.000094      0.000000\n",
      "17  usd_pledged_real_0       0.333464       0.317553      0.182060      0.865556      0.000089\n",
      "18  usd_pledged_real_1       0.333224       0.335322      0.799037      0.088134      0.000133\n",
      "19  usd_pledged_real_2       0.333311       0.347125      0.018903      0.046310      0.999778\n",
      "20     usd_goal_real_0       0.348359       0.348779      0.407213      0.414721      0.166763\n",
      "21     usd_goal_real_1       0.323070       0.332349      0.209163      0.325866      0.358216\n",
      "22     usd_goal_real_2       0.328571       0.318872      0.383624      0.259413      0.475021\n",
      "23          duration_0       0.333346       0.333583      0.313618      0.384287      0.285917\n",
      "24          duration_1       0.333325       0.324979      0.410031      0.306131      0.372623\n",
      "25          duration_2       0.333330       0.341439      0.276351      0.309582      0.341460\n"
     ]
    }
   ],
   "source": [
    "pd.set_option('expand_frame_repr', False)\n",
    "bestNum = 4\n",
    "ClusterFun = 'Birch'\n",
    "NewData = pd.DataFrame(PDData.values, columns=PDData.columns)\n",
    "NewData = ExcuteCluster(NewData, ClusterFun, bestNum)\n",
    "ConvData = DataFrameConvert(NewData, 'Group')\n",
    "print(ConvData)"
   ]
  }
 ],
 "metadata": {
  "kernelspec": {
   "display_name": "Python 3",
   "language": "python",
   "name": "python3"
  },
  "language_info": {
   "codemirror_mode": {
    "name": "ipython",
    "version": 3
   },
   "file_extension": ".py",
   "mimetype": "text/x-python",
   "name": "python",
   "nbconvert_exporter": "python",
   "pygments_lexer": "ipython3",
   "version": "3.6.10"
  }
 },
 "nbformat": 4,
 "nbformat_minor": 4
}
