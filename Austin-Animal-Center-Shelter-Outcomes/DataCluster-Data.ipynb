{
 "cells": [
  {
   "cell_type": "markdown",
   "metadata": {},
   "source": [
    "# Cluster"
   ]
  },
  {
   "cell_type": "code",
   "execution_count": 1,
   "metadata": {},
   "outputs": [],
   "source": [
    "import pandas as pd\n",
    "import numpy as np"
   ]
  },
  {
   "cell_type": "code",
   "execution_count": 2,
   "metadata": {},
   "outputs": [],
   "source": [
    "readPath = './Data3/NewData.csv'\n",
    "PDData = pd.read_csv(readPath)"
   ]
  },
  {
   "cell_type": "markdown",
   "metadata": {},
   "source": [
    "# silhouette_score\n",
    "silhouette_score\n",
    "側影函數 (Silhouette) 是一種解釋和驗證數據集群內一致性的方法。\n",
    "該技術為每個對象的分類情況提供了簡潔的圖形表示。\n",
    "輪廓值是對象與其自己的聚類相比於其他聚類的相似程度的度量。\n",
    "輪廓範圍從-1到+1，其中較高的值表示對象與其自身的聚類匹配良好，而與相鄰的聚類匹配不良。\n",
    "\n",
    "# davies_bouldin_score\n",
    "Davies–Bouldin Index 是評估聚類算法的指標。這是一種內部評估方案，\n",
    "在該方案中，將使用數據集固有的數量和特徵來驗證進行聚類的程度。\n",
    "其中較低的Davies-Bouldin Idex與具有更好群集分離度的模型有關。"
   ]
  },
  {
   "cell_type": "code",
   "execution_count": 3,
   "metadata": {},
   "outputs": [],
   "source": [
    "import matplotlib.pyplot as plt\n",
    "from sklearn.metrics import silhouette_score, davies_bouldin_score\n",
    "from sklearn.cluster import KMeans, AgglomerativeClustering, DBSCAN, Birch\n",
    "from sklearn.mixture import GaussianMixture\n",
    "def MeasureEvaluate(Data, ClusterFun, Min, Max, MeasureFun):\n",
    "    MeasureAvg = []\n",
    "    bestNum = 0\n",
    "    MaxScore = 0\n",
    "    MinScore = 99\n",
    "    for Num_Clusters in range(Min, Max, 1):\n",
    "        #----------------------------------------\n",
    "        # ClusterFun\n",
    "        if(ClusterFun == 'kmeans'):\n",
    "            Model = KMeans(n_clusters = Num_Clusters)\n",
    "            y_pred = Model.fit_predict(Data)\n",
    "        elif(ClusterFun == 'AgglomerativeClustering'):\n",
    "            Model = AgglomerativeClustering(n_clusters = Num_Clusters)\n",
    "            y_pred = Model.fit_predict(Data)\n",
    "        elif(ClusterFun == 'DBSCAN'):\n",
    "            Model = DBSCAN(eps = Num_Clusters/10)\n",
    "            y_pred = Model.fit_predict(Data)\n",
    "        elif(ClusterFun == 'Birch'):\n",
    "            Model = Birch(n_clusters = Num_Clusters)\n",
    "            y_pred = Model.fit_predict(Data)\n",
    "        elif(ClusterFun == 'GaussianMixture'):\n",
    "            Model = GaussianMixture(n_components = Num_Clusters)\n",
    "            y_pred = Model.fit_predict(Data)\n",
    "        #----------------------------------------\n",
    "        \n",
    "        #----------------------------------------\n",
    "        # MeasureFun\n",
    "        if(MeasureFun == 'silhouette_score'):\n",
    "            Score = silhouette_score(Data, y_pred)\n",
    "            if(Score > MaxScore):\n",
    "                bestNum = Num_Clusters\n",
    "                MaxScore = Score\n",
    "        elif(MeasureFun == 'davies_bouldin_score'):\n",
    "            Score = davies_bouldin_score(Data, y_pred)\n",
    "            if(Score < MinScore):\n",
    "                bestNum = Num_Clusters\n",
    "                MinScore = Score\n",
    "        MeasureAvg.append(Score)\n",
    "        #----------------------------------------\n",
    "        \n",
    "        print(Num_Clusters, Score)\n",
    "        \n",
    "    fig1, ax1 = plt.subplots()\n",
    "    ax1.plot(range(Min, Max, 1), MeasureAvg)\n",
    "    return bestNum\n",
    "    \n",
    "# def SSEEvaluate(Data, ClusterFun, Min, Max):\n",
    "#     SSEAvg = []\n",
    "#     for Num_Clusters in range(Min, Max, 1):\n",
    "#         if(ClusterFun == 'kmeans'):\n",
    "#             kmeans = KMeans(n_clusters = Num_Clusters)\n",
    "#             kmeans.fit(Data)\n",
    "#             y_kmeans = kmeans.predict(Data)\n",
    "#             Score = kmeans.inertia_\n",
    "#             SSEAvg.append(Score)\n",
    "#             print(Num_Clusters, Score)\n",
    "#     fig1, ax1 = plt.subplots()\n",
    "#     ax1.plot(range(Min, Max, 1), SSEAvg)\n",
    "\n",
    "def ExcuteCluster(Data, ClusterFun, Num_Clusters):\n",
    "    if(ClusterFun == 'kmeans'):\n",
    "        Model = KMeans(n_clusters = Num_Clusters)\n",
    "        y_pred = Model.fit_predict(Data)\n",
    "    elif(ClusterFun == 'AgglomerativeClustering'):\n",
    "        Model = AgglomerativeClustering(n_clusters = Num_Clusters)\n",
    "        y_pred = Model.fit_predict(Data)\n",
    "    elif(ClusterFun == 'DBSCAN'):\n",
    "        Model = DBSCAN(eps = Num_Clusters/10)\n",
    "        y_pred = Model.fit_predict(Data)\n",
    "    elif(ClusterFun == 'Birch'):\n",
    "        Model = Birch(n_clusters = Num_Clusters)\n",
    "        y_pred = Model.fit_predict(Data)\n",
    "    elif(ClusterFun == 'GaussianMixture'):\n",
    "        Model = GaussianMixture(n_components = Num_Clusters)\n",
    "        y_pred = Model.fit_predict(Data)\n",
    "    Data['Group'] = y_pred\n",
    "    return Data\n",
    "\n",
    "import numpy as np\n",
    "def DataFrameConvert(Data, KeyWord):\n",
    "    ListColumns = list(Data.columns)\n",
    "    ListColumns.remove(KeyWord)\n",
    "    ListColumns.insert(0, 'Number')\n",
    "    NewData = pd.DataFrame(data = ListColumns, columns = ['Columns'])\n",
    "#     --------------------------------\n",
    "# Full Data\n",
    "    TotalNum = len(Data)\n",
    "    Temp = Data.sum(axis = 0, skipna = True)\n",
    "    Temp = Temp.drop(labels=[KeyWord])\n",
    "    Temp = Temp.values / TotalNum\n",
    "    Temp = np.insert(Temp, 0, TotalNum)\n",
    "    NewData['Full Data'] = Temp\n",
    "#     --------------------------------\n",
    "    KeyList = list(Data[KeyWord].unique())\n",
    "    KeyList.sort()\n",
    "    for Key in KeyList:\n",
    "        TotalNum = len(Data[Data[KeyWord] == Key])\n",
    "        Temp = Data[Data[KeyWord] == Key].sum(axis = 0, skipna = True)\n",
    "        Temp = Temp.drop(labels=[KeyWord])\n",
    "        Temp = Temp.values / TotalNum\n",
    "        Temp = np.insert(Temp, 0, TotalNum)\n",
    "        ColValue = Temp\n",
    "        NewData[Key] = ColValue\n",
    "#     --------------------------------\n",
    "    return NewData"
   ]
  },
  {
   "cell_type": "markdown",
   "metadata": {},
   "source": [
    "# Partitioning - KMeans\n",
    "K-平均演算法（英文：k-means clustering）源於訊號處理中的一種向量量化方法，\n",
    "現在則更多地作為一種聚類分析方法流行於資料探勘領域。\n",
    "k-平均聚類的目的是：把n個點（可以是樣本的一次觀察或一個實例）劃分到k個聚類中，\n",
    "使得每個點都屬於離他最近的均值（此即聚類中心）對應的聚類，以之作為聚類的標準。"
   ]
  },
  {
   "cell_type": "code",
   "execution_count": 4,
   "metadata": {
    "scrolled": true
   },
   "outputs": [
    {
     "name": "stdout",
     "output_type": "stream",
     "text": [
      "-----------------------------------------------------------------\n",
      "2 1.8270334870354528\n",
      "3 1.7190730704561554\n",
      "4 1.5610054622999159\n",
      "5 1.488459476004757\n",
      "6 1.4227903621111118\n",
      "7 1.338042474200861\n",
      "8 1.3148706239530692\n",
      "9 1.2925085700405081\n",
      "10 1.1619532585173928\n",
      "kmeans  bestNumber ：  10\n",
      "               Columns     Full Data             0             1            2  \\\n",
      "0               Number  78248.000000  10208.000000  10371.000000  7408.000000   \n",
      "1   age_upon_outcome_0      0.338296      0.034091      0.221001     0.000000   \n",
      "2   age_upon_outcome_1      0.408368      0.251469      0.537267     0.907127   \n",
      "3   age_upon_outcome_2      0.253336      0.714440      0.241732     0.092873   \n",
      "4        animal_type_0      0.375997      0.054075      0.000000     0.724217   \n",
      "5        animal_type_1      0.565344      0.942790      0.987465     0.262554   \n",
      "6        animal_type_2      0.058660      0.003135      0.012535     0.013229   \n",
      "7       outcome_type_0      0.423167      0.219240      1.000000     0.000000   \n",
      "8       outcome_type_1      0.276544      0.652723      0.000000     0.062095   \n",
      "9       outcome_type_2      0.300289      0.128037      0.000000     0.937905   \n",
      "10  sex_upon_outcome_0      0.438912      1.000000      0.000000     0.738526   \n",
      "11  sex_upon_outcome_1      0.477060      0.000000      1.000000     0.207343   \n",
      "12  sex_upon_outcome_2      0.084028      0.000000      0.000000     0.054131   \n",
      "\n",
      "              3             4            5            6            7  \\\n",
      "0   6650.000000  14254.000000  7323.000000  7044.000000  6677.000000   \n",
      "1      0.000000      0.476849     0.900724     0.056502     0.745395   \n",
      "2      1.000000      0.460572     0.000000     0.000000     0.143627   \n",
      "3      0.000000      0.062579     0.099276     0.943498     0.110978   \n",
      "4      0.076842      0.460923     0.797078     0.097530     0.997304   \n",
      "5      0.885714      0.531289     0.186945     0.896366     0.000000   \n",
      "6      0.037444      0.007787     0.015977     0.006104     0.002696   \n",
      "7      0.000000      1.000000     0.000000     0.000000     0.925565   \n",
      "8      0.644662      0.000000     0.025126     0.786201     0.074435   \n",
      "9      0.355338      0.000000     0.974874     0.213799     0.000000   \n",
      "10     0.000000      1.000000     0.000000     0.000000     0.000000   \n",
      "11     1.000000      0.000000     0.693705     0.995599     0.999850   \n",
      "12     0.000000      0.000000     0.306295     0.004401     0.000150   \n",
      "\n",
      "              8            9  \n",
      "0   4356.000000  3957.000000  \n",
      "1      1.000000     0.178671  \n",
      "2      0.000000     0.738185  \n",
      "3      0.000000     0.083144  \n",
      "4      0.713728     0.033106  \n",
      "5      0.280303     0.015163  \n",
      "6      0.005969     0.951731  \n",
      "7      0.000000     0.017437  \n",
      "8      0.078972     0.926459  \n",
      "9      0.921028     0.056103  \n",
      "10     1.000000     0.013899  \n",
      "11     0.000000     0.000758  \n",
      "12     0.000000     0.985342  \n",
      "-----------------------------------------------------------------\n"
     ]
    },
    {
     "data": {
      "image/png": "[encoded data removed]",
      "text/plain": [
       "<Figure size 432x288 with 1 Axes>"
      ]
     },
     "metadata": {
      "needs_background": "light"
     },
     "output_type": "display_data"
    }
   ],
   "source": [
    "MinNum = 2\n",
    "MaxNum = 11\n",
    "NewData = pd.DataFrame(PDData.values, columns=PDData.columns)\n",
    "# print(NewData.head())\n",
    "print('-----------------------------------------------------------------')\n",
    "ClusterFun = 'kmeans'\n",
    "MeasureFun = 'davies_bouldin_score'#silhouette_score, davies_bouldin_score\n",
    "bestNum = MeasureEvaluate(NewData, ClusterFun, MinNum, MaxNum, MeasureFun)\n",
    "print(ClusterFun, ' bestNumber ： ', bestNum)\n",
    "NewData = ExcuteCluster(NewData, ClusterFun, bestNum)\n",
    "ConvData = DataFrameConvert(NewData, 'Group')\n",
    "print(ConvData)\n",
    "print('-----------------------------------------------------------------')"
   ]
  },
  {
   "cell_type": "code",
   "execution_count": 5,
   "metadata": {
    "scrolled": true
   },
   "outputs": [
    {
     "name": "stdout",
     "output_type": "stream",
     "text": [
      "               Columns     Full Data             0             1             2             3\n",
      "0               Number  78248.000000  20386.000000  27713.000000  14461.000000  15688.000000\n",
      "1   age_upon_outcome_0      0.338296      0.070490      0.425468      0.261462      0.603136\n",
      "2   age_upon_outcome_1      0.408368      0.476945      0.378234      0.493396      0.294110\n",
      "3   age_upon_outcome_2      0.253336      0.452565      0.196298      0.245142      0.102754\n",
      "4        animal_type_0      0.375997      0.092269      0.434020      0.000000      0.988781\n",
      "5        animal_type_1      0.565344      0.719955      0.551835      0.986585      0.000000\n",
      "6        animal_type_2      0.058660      0.187776      0.014145      0.013415      0.011219\n",
      "7       outcome_type_0      0.423167      0.000049      0.599069      0.685084      0.420831\n",
      "8       outcome_type_1      0.276544      0.988620      0.017934      0.000000      0.062978\n",
      "9       outcome_type_2      0.300289      0.011331      0.382997      0.314916      0.516191\n",
      "10  sex_upon_outcome_0      0.438912      0.329540      0.000000      0.999447      0.839686\n",
      "11  sex_upon_outcome_1      0.477060      0.481016      0.993144      0.000000      0.000000\n",
      "12  sex_upon_outcome_2      0.084028      0.189444      0.006856      0.000553      0.160314\n"
     ]
    }
   ],
   "source": [
    "pd.set_option('expand_frame_repr', False)\n",
    "bestNum = 4\n",
    "ClusterFun = 'kmeans'\n",
    "NewData = pd.DataFrame(PDData.values, columns=PDData.columns)\n",
    "NewData = ExcuteCluster(NewData, ClusterFun, bestNum)\n",
    "ConvData = DataFrameConvert(NewData, 'Group')\n",
    "print(ConvData)"
   ]
  },
  {
   "cell_type": "markdown",
   "metadata": {},
   "source": [
    "# Hierarchical-Agglomerative Clustering\n",
    "聚合式階層分群法（agglomerative hierarchical clustering）\n",
    "屬階層式分群法（hierarchical clustering）的一種，\n",
    "是群集分析中常見的應用。聚合式階層分群法是透過架構階層，\n",
    "將資料中相似的物件一層層一階階地反覆聚合分類，最後產生樹狀分支結構。"
   ]
  },
  {
   "cell_type": "code",
   "execution_count": 6,
   "metadata": {
    "scrolled": true
   },
   "outputs": [],
   "source": [
    "# MinNum = 2\n",
    "# MaxNum = 11\n",
    "# NewData = pd.DataFrame(PDData.values, columns=PDData.columns)\n",
    "# # print(NewData.head())\n",
    "# print('-----------------------------------------------------------------')\n",
    "# ClusterFun = 'AgglomerativeClustering'\n",
    "# MeasureFun = 'davies_bouldin_score'#silhouette_score, davies_bouldin_score\n",
    "# bestNum = MeasureEvaluate(NewData, ClusterFun, MinNum, MaxNum, MeasureFun)\n",
    "# print(ClusterFun, ' bestNumber ： ', bestNum)\n",
    "# NewData = ExcuteCluster(NewData, ClusterFun, bestNum)\n",
    "# ConvData = DataFrameConvert(NewData, 'Group')\n",
    "# print(ConvData)\n",
    "# print('-----------------------------------------------------------------')"
   ]
  },
  {
   "cell_type": "markdown",
   "metadata": {},
   "source": [
    "# GaussianMixture\n",
    "為單一高斯概率密度函數的延伸，用多個高斯概率密度函數（常態分布曲線）精確地量化變量分布，\n",
    "是將變量分布分解為若干基於高斯概率密度函數（常態分布曲線）分布的統計模型。"
   ]
  },
  {
   "cell_type": "code",
   "execution_count": 7,
   "metadata": {
    "scrolled": true
   },
   "outputs": [
    {
     "name": "stdout",
     "output_type": "stream",
     "text": [
      "-----------------------------------------------------------------\n",
      "2 2.272757783081591\n",
      "3 1.796080162009316\n",
      "4 1.8047837535481253\n",
      "5 1.9499999994226325\n",
      "6 1.6152386563170964\n",
      "7 1.5654585895770652\n",
      "8 1.3752841758499323\n",
      "9 1.4250018693920108\n",
      "10 1.2773317470866516\n",
      "GaussianMixture  bestNumber ：  10\n",
      "               Columns     Full Data            0             1             2  \\\n",
      "0               Number  78248.000000  7793.000000  14170.000000  11115.000000   \n",
      "1   age_upon_outcome_0      0.338296     0.671115      0.191108      0.000000   \n",
      "2   age_upon_outcome_1      0.408368     0.318106      0.808892      0.000000   \n",
      "3   age_upon_outcome_2      0.253336     0.010779      0.000000      1.000000   \n",
      "4        animal_type_0      0.375997     0.924163      0.000000      0.000000   \n",
      "5        animal_type_1      0.565344     0.000000      0.990332      1.000000   \n",
      "6        animal_type_2      0.058660     0.075837      0.009668      0.000000   \n",
      "7       outcome_type_0      0.423167     0.000000      0.556246      0.201350   \n",
      "8       outcome_type_1      0.276544     0.052355      0.288215      0.682591   \n",
      "9       outcome_type_2      0.300289     0.947645      0.155540      0.116059   \n",
      "10  sex_upon_outcome_0      0.438912     0.000000      0.000000      0.603599   \n",
      "11  sex_upon_outcome_1      0.477060     0.634159      1.000000      0.396401   \n",
      "12  sex_upon_outcome_2      0.084028     0.365841      0.000000      0.000000   \n",
      "\n",
      "              3             4            5            6            7  \\\n",
      "0   4341.000000  14460.000000  3609.000000  6428.000000  9741.000000   \n",
      "1      0.000000      0.708091     0.199501     0.771313     0.000000   \n",
      "2      0.000000      0.291909     0.715157     0.228687     1.000000   \n",
      "3      1.000000      0.000000     0.085342     0.000000     0.000000   \n",
      "4      0.976273      0.798893     0.000277     1.000000     0.000000   \n",
      "5      0.000000      0.201107     0.027431     0.000000     0.977004   \n",
      "6      0.023727      0.000000     0.972291     0.000000     0.022996   \n",
      "7      0.378715      0.570885     0.023552     0.843186     0.522739   \n",
      "8      0.294633      0.079668     0.971737     0.156814     0.268350   \n",
      "9      0.326653      0.349447     0.004710     0.000000     0.208911   \n",
      "10     0.498503      1.000000     0.006373     0.000000     1.000000   \n",
      "11     0.501497      0.000000     0.000000     1.000000     0.000000   \n",
      "12     0.000000      0.000000     0.993627     0.000000     0.000000   \n",
      "\n",
      "              8            9  \n",
      "0   3975.000000  2616.000000  \n",
      "1      0.000000     1.000000  \n",
      "2      0.000000     0.000000  \n",
      "3      1.000000     0.000000  \n",
      "4      0.000000     0.000000  \n",
      "5      1.000000     0.990061  \n",
      "6      0.000000     0.009939  \n",
      "7      0.627925     0.000000  \n",
      "8      0.000000     0.000000  \n",
      "9      0.372075     1.000000  \n",
      "10     0.000000     0.476682  \n",
      "11     1.000000     0.470566  \n",
      "12     0.000000     0.052752  \n",
      "-----------------------------------------------------------------\n"
     ]
    },
    {
     "data": {
      "image/png": "[encoded data removed]",
      "text/plain": [
       "<Figure size 432x288 with 1 Axes>"
      ]
     },
     "metadata": {
      "needs_background": "light"
     },
     "output_type": "display_data"
    }
   ],
   "source": [
    "MinNum = 2\n",
    "MaxNum = 11\n",
    "NewData = pd.DataFrame(PDData.values, columns=PDData.columns)\n",
    "# print(NewData.head())\n",
    "print('-----------------------------------------------------------------')\n",
    "ClusterFun = 'GaussianMixture'\n",
    "MeasureFun = 'davies_bouldin_score'#silhouette_score, davies_bouldin_score\n",
    "bestNum = MeasureEvaluate(NewData, ClusterFun, MinNum, MaxNum, MeasureFun)\n",
    "print(ClusterFun, ' bestNumber ： ', bestNum)\n",
    "NewData = ExcuteCluster(NewData, ClusterFun, bestNum)\n",
    "ConvData = DataFrameConvert(NewData, 'Group')\n",
    "print(ConvData)\n",
    "print('-----------------------------------------------------------------')"
   ]
  },
  {
   "cell_type": "code",
   "execution_count": 8,
   "metadata": {
    "scrolled": true
   },
   "outputs": [
    {
     "name": "stdout",
     "output_type": "stream",
     "text": [
      "               Columns     Full Data             0             1             2             3\n",
      "0               Number  78248.000000  28996.000000  14922.000000  19613.000000  14717.000000\n",
      "1   age_upon_outcome_0      0.338296      0.423369      0.951280      0.000000      0.000000\n",
      "2   age_upon_outcome_1      0.408368      0.576631      0.034647      0.000000      1.000000\n",
      "3   age_upon_outcome_2      0.253336      0.000000      0.014073      1.000000      0.000000\n",
      "4        animal_type_0      0.375997      0.398400      0.712036      0.216081      0.204254\n",
      "5        animal_type_1      0.565344      0.470617      0.278649      0.769388      0.770741\n",
      "6        animal_type_2      0.058660      0.130984      0.009315      0.014531      0.025005\n",
      "7       outcome_type_0      0.423167      0.463167      0.455703      0.323816      0.443773\n",
      "8       outcome_type_1      0.276544      0.238481      0.089465      0.464080      0.291296\n",
      "9       outcome_type_2      0.300289      0.298351      0.454832      0.212104      0.264932\n",
      "10  sex_upon_outcome_0      0.438912      0.878432      0.003284      0.449906      0.000000\n",
      "11  sex_upon_outcome_1      0.477060      0.000000      0.811419      0.535563      1.000000\n",
      "12  sex_upon_outcome_2      0.084028      0.121568      0.185297      0.014531      0.000000\n"
     ]
    }
   ],
   "source": [
    "pd.set_option('expand_frame_repr', False)\n",
    "bestNum = 4\n",
    "ClusterFun = 'GaussianMixture'\n",
    "NewData = pd.DataFrame(PDData.values, columns=PDData.columns)\n",
    "NewData = ExcuteCluster(NewData, ClusterFun, bestNum)\n",
    "ConvData = DataFrameConvert(NewData, 'Group')\n",
    "print(ConvData)"
   ]
  },
  {
   "cell_type": "markdown",
   "metadata": {},
   "source": [
    "# Birch\n",
    "BIRCH（英文全稱：balanced iterative reducing and clustering using hierarchies，中文：利用層次方法的平衡疊代規約和聚類）\n",
    "是一個非監督式分層聚類算法，於1996年由 Tian Zhang 提出。\n",
    "算法的優勢在於能夠利用有限的內存資源完成對大數據集的高質量的聚類。\n",
    "該算法通過構建聚類特徵樹（Clustering Feature Tree，簡稱CF Tree），在接下來的聚類過程中，\n",
    "直接對聚類特徵進行聚類，而無需對原始數據集進行聚類。\n",
    "因此在多數情況下只需要掃描一次資料庫即可進行聚類，IO成本與數據集尺寸呈線性關係。"
   ]
  },
  {
   "cell_type": "code",
   "execution_count": 9,
   "metadata": {
    "scrolled": true
   },
   "outputs": [
    {
     "name": "stdout",
     "output_type": "stream",
     "text": [
      "-----------------------------------------------------------------\n",
      "2 2.3476113084541432\n",
      "3 1.7200269532957204\n",
      "4 1.7871617359917136\n",
      "5 1.7272941489809999\n",
      "6 1.6489701137078072\n",
      "7 1.4801799237955817\n",
      "8 1.4218719204074708\n",
      "9 1.3450194183602062\n",
      "10 1.2967980677869693\n",
      "Birch  bestNumber ：  10\n",
      "               Columns     Full Data             0            1             2  \\\n",
      "0               Number  78248.000000  29994.000000  6988.000000  21573.000000   \n",
      "1   age_upon_outcome_0      0.338296      0.024872     0.574127      0.628981   \n",
      "2   age_upon_outcome_1      0.408368      0.441422     0.327418      0.371019   \n",
      "3   age_upon_outcome_2      0.253336      0.533707     0.098454      0.000000   \n",
      "4        animal_type_0      0.375997      0.029173     0.821551      0.515274   \n",
      "5        animal_type_1      0.565344      0.969694     0.174728      0.477680   \n",
      "6        animal_type_2      0.058660      0.001134     0.003721      0.007046   \n",
      "7       outcome_type_0      0.423167      0.354704     0.000000      1.000000   \n",
      "8       outcome_type_1      0.276544      0.487264     0.000000      0.000000   \n",
      "9       outcome_type_2      0.300289      0.158032     1.000000      0.000000   \n",
      "10  sex_upon_outcome_0      0.438912      0.582883     1.000000      0.383350   \n",
      "11  sex_upon_outcome_1      0.477060      0.415583     0.000000      0.616604   \n",
      "12  sex_upon_outcome_2      0.084028      0.001534     0.000000      0.000046   \n",
      "\n",
      "              3            4            5            6           7  \\\n",
      "0   8784.000000  3080.000000  2221.000000  1179.000000  919.000000   \n",
      "1      0.556125     0.000000     0.000000     0.746395    0.383025   \n",
      "2      0.443875     0.997403     0.000000     0.000000    0.000000   \n",
      "3      0.000000     0.002597     1.000000     0.253605    0.616975   \n",
      "4      0.588798     0.000000     0.975687     0.156064    0.974973   \n",
      "5      0.391052     0.000000     0.000000     0.044953    0.000000   \n",
      "6      0.020150     1.000000     0.024313     0.798982    0.025027   \n",
      "7      0.000000     0.042532     0.338586     0.014419    0.000000   \n",
      "8      0.056922     0.853571     0.340387     0.985581    1.000000   \n",
      "9      0.943078     0.103896     0.321027     0.000000    0.000000   \n",
      "10     0.000000     0.072727     0.000000     0.000000    1.000000   \n",
      "11     1.000000     0.029221     0.980189     0.000000    0.000000   \n",
      "12     0.000000     0.898052     0.019811     1.000000    0.000000   \n",
      "\n",
      "              8            9  \n",
      "0   2452.000000  1058.000000  \n",
      "1      0.826672     0.000000  \n",
      "2      0.160277     1.000000  \n",
      "3      0.013051     0.000000  \n",
      "4      0.902121     1.000000  \n",
      "5      0.056281     0.000000  \n",
      "6      0.041599     0.000000  \n",
      "7      0.000000     0.000000  \n",
      "8      0.000000     1.000000  \n",
      "9      1.000000     0.000000  \n",
      "10     0.000000     0.434783  \n",
      "11     0.000000     0.482987  \n",
      "12     1.000000     0.082231  \n",
      "-----------------------------------------------------------------\n"
     ]
    },
    {
     "data": {
      "image/png": "[encoded data removed]",
      "text/plain": [
       "<Figure size 432x288 with 1 Axes>"
      ]
     },
     "metadata": {
      "needs_background": "light"
     },
     "output_type": "display_data"
    }
   ],
   "source": [
    "MinNum = 2\n",
    "MaxNum = 11\n",
    "NewData = pd.DataFrame(PDData.values, columns=PDData.columns)\n",
    "# print(NewData.head())\n",
    "print('-----------------------------------------------------------------')\n",
    "ClusterFun = 'Birch'\n",
    "MeasureFun = 'davies_bouldin_score'#silhouette_score, davies_bouldin_score\n",
    "bestNum = MeasureEvaluate(NewData, ClusterFun, MinNum, MaxNum, MeasureFun)\n",
    "print(ClusterFun, ' bestNumber ： ', bestNum)\n",
    "NewData = ExcuteCluster(NewData, ClusterFun, bestNum)\n",
    "ConvData = DataFrameConvert(NewData, 'Group')\n",
    "print(ConvData)\n",
    "print('-----------------------------------------------------------------')"
   ]
  },
  {
   "cell_type": "code",
   "execution_count": 10,
   "metadata": {
    "scrolled": true
   },
   "outputs": [
    {
     "name": "stdout",
     "output_type": "stream",
     "text": [
      "               Columns     Full Data             0            1            2\n",
      "0               Number  78248.000000  62572.000000  6236.000000  9440.000000\n",
      "1   age_upon_outcome_0      0.338296      0.306847     0.197563     0.639725\n",
      "2   age_upon_outcome_1      0.408368      0.401825     0.662284     0.284004\n",
      "3   age_upon_outcome_2      0.253336      0.291328     0.140154     0.076271\n",
      "4        animal_type_0      0.375997      0.308924     0.342848     0.842479\n",
      "5        animal_type_1      0.565344      0.684412     0.008499     0.143962\n",
      "6        animal_type_2      0.058660      0.006664     0.648653     0.013559\n",
      "7       outcome_type_0      0.423167      0.526817     0.023733     0.000000\n",
      "8       outcome_type_1      0.276544      0.253644     0.924952     0.000000\n",
      "9       outcome_type_2      0.300289      0.219539     0.051315     1.000000\n",
      "10  sex_upon_outcome_0      0.438912      0.411574     0.257056     0.740254\n",
      "11  sex_upon_outcome_1      0.477060      0.586972     0.096376     0.000000\n",
      "12  sex_upon_outcome_2      0.084028      0.001454     0.646568     0.259746\n"
     ]
    }
   ],
   "source": [
    "pd.set_option('expand_frame_repr', False)\n",
    "bestNum = 3\n",
    "ClusterFun = 'Birch'\n",
    "NewData = pd.DataFrame(PDData.values, columns=PDData.columns)\n",
    "NewData = ExcuteCluster(NewData, ClusterFun, bestNum)\n",
    "ConvData = DataFrameConvert(NewData, 'Group')\n",
    "print(ConvData)"
   ]
  }
 ],
 "metadata": {
  "kernelspec": {
   "display_name": "Python 3",
   "language": "python",
   "name": "python3"
  },
  "language_info": {
   "codemirror_mode": {
    "name": "ipython",
    "version": 3
   },
   "file_extension": ".py",
   "mimetype": "text/x-python",
   "name": "python",
   "nbconvert_exporter": "python",
   "pygments_lexer": "ipython3",
   "version": "3.6.10"
  }
 },
 "nbformat": 4,
 "nbformat_minor": 4
}
