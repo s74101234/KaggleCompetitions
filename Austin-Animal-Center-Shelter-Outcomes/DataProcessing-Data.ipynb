{
 "cells": [
  {
   "cell_type": "markdown",
   "metadata": {},
   "source": [
    "# 資料說明"
   ]
  },
  {
   "cell_type": "code",
   "execution_count": 1,
   "metadata": {},
   "outputs": [],
   "source": [
    "import pandas as pd\n",
    "import numpy as np"
   ]
  },
  {
   "cell_type": "code",
   "execution_count": 2,
   "metadata": {
    "scrolled": true
   },
   "outputs": [
    {
     "name": "stdout",
     "output_type": "stream",
     "text": [
      "----------------------------------------\n",
      "Columns： ['age_upon_outcome', 'animal_id', 'animal_type', 'breed', 'color', 'date_of_birth', 'datetime', 'monthyear', 'name', 'outcome_subtype', 'outcome_type', 'sex_upon_outcome']\n",
      "----------------------------------------\n",
      "Shape： (78256, 12)\n",
      "----------------------------------------\n",
      "Null-Sum：\n",
      "age_upon_outcome        8\n",
      "name                23886\n",
      "outcome_subtype     42293\n",
      "outcome_type           12\n",
      "sex_upon_outcome        2\n",
      "dtype: int64\n",
      "----------------------------------------\n",
      "unique number of each column\n",
      "age_upon_outcome ： 47\n",
      "animal_id ： 70855\n",
      "animal_type ： 5\n",
      "breed ： 2128\n",
      "color ： 525\n",
      "date_of_birth ： 5869\n",
      "datetime ： 64361\n",
      "monthyear ： 64361\n",
      "name ： 14575\n",
      "outcome_subtype ： 20\n",
      "outcome_type ： 10\n",
      "sex_upon_outcome ： 6\n",
      "----------------------------------------\n"
     ]
    }
   ],
   "source": [
    "readPath = './Data3/aac_shelter_outcomes.csv'\n",
    "writePath = './Data3/NewData.csv'\n",
    "Data = pd.read_csv(readPath)\n",
    "\n",
    "print('----------------------------------------')\n",
    "print('Columns：', list(Data.columns))\n",
    "\n",
    "print('----------------------------------------')\n",
    "print('Shape：', Data.shape)\n",
    "DataNull = Data.isnull().sum()\n",
    "\n",
    "print('----------------------------------------')\n",
    "print('Null-Sum：')\n",
    "print(DataNull[DataNull>0])\n",
    "\n",
    "print('----------------------------------------')\n",
    "print('unique number of each column')\n",
    "for Col in Data.columns:\n",
    "    print(Col, '：', len(Data[Col].unique()))\n",
    "print('----------------------------------------')\n",
    "\n",
    "# Austin Animal Center是美國最大的不間斷動物收容所，\n",
    "# 每年為超過18,000只動物提供照料和庇護所，\n",
    "# 並參與了一系列縣、市和州範圍內的保護和照顧被遺棄者的舉措，\n",
    "# 高風險和投降的動物。\n",
    "\n",
    "# explanation\n",
    "# age_upon_outcome：Age of the animal at the time at which it left the shelter.\n",
    "# animal_id：ID\n",
    "# animal_type：Cat, dog, or other (including at least one bat!).\n",
    "# breed：Animal breed. Many animals are generic mixed-breeds, e.g. \"Long-haired mix\".\n",
    "# color：Color of the animal's fur, if it has fur.\n",
    "# date_of_birth：Date of birth\n",
    "# datetime：leave of datetime\n",
    "# monthyear：leave of datetime\n",
    "# name：Name\n",
    "# outcome_subtype\n",
    "# outcome_type：Ultimate outcome for this animal. Possible entries include transferred, [mercy] euthanized, adopted.\n",
    "# sex_upon_outcome：Sex of animal"
   ]
  },
  {
   "cell_type": "markdown",
   "metadata": {},
   "source": [
    "# 資料前處理"
   ]
  },
  {
   "cell_type": "code",
   "execution_count": 3,
   "metadata": {},
   "outputs": [],
   "source": [
    "from sklearn.preprocessing import LabelEncoder\n",
    "def ConvertTypeToNumber(Data):\n",
    "#     print('Class：', Data.unique())\n",
    "    orgLabel = list(Data.unique())\n",
    "    classLE = LabelEncoder()\n",
    "    Data = classLE.fit_transform(Data.values)\n",
    "    NewLabel = list(pd.DataFrame(Data)[0].unique())\n",
    "    mappingLabel = [orgLabel, NewLabel]\n",
    "    return Data, mappingLabel\n",
    "\n",
    "def twoListSort(list1, list2):\n",
    "    zipped_lists = zip(list1, list2)\n",
    "    sorted_pairs = sorted(zipped_lists)\n",
    "    tuples = zip(*sorted_pairs)\n",
    "    list1, list2 = [ list(tuple) for tuple in  tuples]\n",
    "    return list1, list2\n",
    "\n",
    "def LEDef(Data, Type):\n",
    "    Data[Type], TempLabel = ConvertTypeToNumber(Data[Type])\n",
    "    TempLabel = twoListSort(TempLabel[1], TempLabel[0])\n",
    "    print(Type, ' ： ', TempLabel)\n",
    "    print('')\n",
    "    return Data\n",
    "\n",
    "def cutDef(Data, Type, qcutNum):\n",
    "    Data[Type] = pd.qcut(Data[Type], qcutNum)\n",
    "    Data[Type], TempLabel = ConvertTypeToNumber(Data[Type])\n",
    "    TempLabel = twoListSort(TempLabel[1], TempLabel[0])\n",
    "    print(Type, ' ： ', TempLabel)\n",
    "    print(Type, ' - counts：')\n",
    "    print(Data[Type].value_counts(normalize=True))\n",
    "    print('')\n",
    "    return Data\n",
    "\n",
    "import matplotlib.pyplot as plt\n",
    "def plotHistogram(Data, title, xLabel, yLabel):\n",
    "    fig, ax = plt.subplots(figsize = (4, 3))\n",
    "    DataCounts = Data.value_counts(normalize=False)\n",
    "    x = DataCounts.index\n",
    "    y = DataCounts\n",
    "    ax.bar(x, y)\n",
    "    ax.set_title(title)\n",
    "    ax.set_xlabel(xLabel)\n",
    "    ax.set_ylabel(yLabel)\n",
    "    plt.show()"
   ]
  },
  {
   "cell_type": "code",
   "execution_count": 4,
   "metadata": {},
   "outputs": [
    {
     "name": "stdout",
     "output_type": "stream",
     "text": [
      "----------------------------------------\n",
      "Before：\n",
      "Columns： ['age_upon_outcome', 'animal_type', 'outcome_type', 'sex_upon_outcome']\n",
      "\n",
      "Shape： (78256, 4)\n",
      "\n",
      "NewData：\n",
      "  age_upon_outcome animal_type outcome_type sex_upon_outcome\n",
      "0          2 weeks         Cat     Transfer      Intact Male\n",
      "1           1 year         Dog     Transfer    Spayed Female\n",
      "2           1 year         Dog     Adoption    Neutered Male\n",
      "3          9 years         Dog     Transfer    Neutered Male\n",
      "4         5 months       Other   Euthanasia          Unknown\n",
      "----------------------------------------\n",
      "----------------------------------------\n",
      "animal_type\n",
      "['Cat' 'Dog' 'Other']\n",
      "Dog      0.565350\n",
      "Cat      0.375971\n",
      "Other    0.058679\n",
      "Name: animal_type, dtype: float64\n"
     ]
    },
    {
     "data": {
      "image/png": "[encoded data removed]",
      "text/plain": [
       "<Figure size 288x216 with 1 Axes>"
      ]
     },
     "metadata": {
      "needs_background": "light"
     },
     "output_type": "display_data"
    },
    {
     "name": "stdout",
     "output_type": "stream",
     "text": [
      "outcome_type\n",
      "['Transfer' 'Adoption' 'Other']\n",
      "Adoption    0.423124\n",
      "Transfer    0.300284\n",
      "Other       0.276592\n",
      "Name: outcome_type, dtype: float64\n"
     ]
    },
    {
     "data": {
      "image/png": "[encoded data removed]",
      "text/plain": [
       "<Figure size 288x216 with 1 Axes>"
      ]
     },
     "metadata": {
      "needs_background": "light"
     },
     "output_type": "display_data"
    },
    {
     "name": "stdout",
     "output_type": "stream",
     "text": [
      "sex_upon_outcome\n",
      "['Male' 'Female' 'Unknow']\n",
      "Male      0.477062\n",
      "Female    0.438893\n",
      "Unknow    0.084045\n",
      "Name: sex_upon_outcome, dtype: float64\n"
     ]
    },
    {
     "data": {
      "image/png": "[encoded data removed]",
      "text/plain": [
       "<Figure size 288x216 with 1 Axes>"
      ]
     },
     "metadata": {
      "needs_background": "light"
     },
     "output_type": "display_data"
    },
    {
     "name": "stdout",
     "output_type": "stream",
     "text": [
      "----------------------------------------\n",
      "----------------------------------------\n",
      "DateTime\n",
      "age_upon_outcome\n",
      "[  14  365 3285  150  120 1095   30   90  730   60 1460 2920   21  240\n",
      " 4380 2555 1825 2190    5  300   28 3650    2  180 5110  330 5475  210\n",
      " 4745 4015 5840  270    3    6    4   35    7    1    0 6205 7300 6570\n",
      " 6935 8030 9125]\n",
      "365     0.183455\n",
      "730     0.143058\n",
      "60      0.117741\n",
      "1095    0.065906\n",
      "90      0.043988\n",
      "30      0.042736\n",
      "1460    0.038212\n",
      "1825    0.034391\n",
      "120     0.030991\n",
      "150     0.024934\n",
      "180     0.024243\n",
      "2190    0.023132\n",
      "2920    0.019860\n",
      "2555    0.019643\n",
      "21      0.018748\n",
      "14      0.016997\n",
      "300     0.015387\n",
      "28      0.015259\n",
      "240     0.015055\n",
      "3650    0.014812\n",
      "210     0.012307\n",
      "7       0.012013\n",
      "3285    0.010505\n",
      "270     0.008601\n",
      "4380    0.007783\n",
      "330     0.006262\n",
      "4015    0.005483\n",
      "4745    0.004971\n",
      "5110    0.003233\n",
      "3       0.003003\n",
      "2       0.002773\n",
      "5475    0.002658\n",
      "1       0.001955\n",
      "6       0.001943\n",
      "4       0.001738\n",
      "5       0.001482\n",
      "5840    0.001291\n",
      "0       0.001214\n",
      "35      0.000780\n",
      "6205    0.000741\n",
      "6570    0.000332\n",
      "6935    0.000166\n",
      "7300    0.000153\n",
      "8030    0.000051\n",
      "9125    0.000013\n",
      "Name: age_upon_outcome, dtype: float64\n"
     ]
    },
    {
     "data": {
      "image/png": "[encoded data removed]",
      "text/plain": [
       "<Figure size 288x216 with 1 Axes>"
      ]
     },
     "metadata": {
      "needs_background": "light"
     },
     "output_type": "display_data"
    },
    {
     "name": "stdout",
     "output_type": "stream",
     "text": [
      "----------------------------------------\n",
      "----------------------------------------\n",
      "LEDef\n",
      "animal_type  ：  ([0, 1, 2], ['Cat', 'Dog', 'Other'])\n",
      "\n",
      "outcome_type  ：  ([0, 1, 2], ['Adoption', 'Other', 'Transfer'])\n",
      "\n",
      "sex_upon_outcome  ：  ([0, 1, 2], ['Female', 'Male', 'Unknow'])\n",
      "\n",
      "----------------------------------------\n",
      "----------------------------------------\n",
      "cut\n",
      "age_upon_outcome  ：  ([0, 1, 2], [Interval(-0.001, 150.0, closed='right'), Interval(150.0, 730.0, closed='right'), Interval(730.0, 9125.0, closed='right')])\n",
      "age_upon_outcome  - counts：\n",
      "1    0.408368\n",
      "0    0.338296\n",
      "2    0.253336\n",
      "Name: age_upon_outcome, dtype: float64\n",
      "\n",
      "----------------------------------------\n",
      "----------------------------------------\n",
      "After：\n",
      "Columns： ['age_upon_outcome', 'animal_type', 'outcome_type', 'sex_upon_outcome']\n",
      "\n",
      "Shape： (78248, 4)\n",
      "\n",
      "NewData：\n",
      "   age_upon_outcome  animal_type  outcome_type  sex_upon_outcome\n",
      "0                 0            0             2                 1\n",
      "1                 1            1             2                 0\n",
      "2                 1            1             0                 1\n",
      "3                 2            1             2                 1\n",
      "4                 0            2             1                 2\n",
      "----------------------------------------\n"
     ]
    }
   ],
   "source": [
    "NewData = Data.drop(columns=['animal_id', 'monthyear', 'name', 'outcome_subtype', 'breed', 'color', 'date_of_birth', 'datetime'])\n",
    "print('----------------------------------------')\n",
    "print('Before：')\n",
    "print('Columns：', list(NewData.columns))\n",
    "print('')\n",
    "print('Shape：', NewData.shape)\n",
    "print('')\n",
    "print('NewData：')\n",
    "print(NewData.head(5))\n",
    "print('----------------------------------------')\n",
    "\n",
    "print('----------------------------------------')\n",
    "NewData.loc[(NewData['animal_type'] == 'Bird') |\n",
    "         (NewData['animal_type'] == 'Livestock') |\n",
    "         (NewData['animal_type'] == 'Other'), 'animal_type'] = 'Other'\n",
    "print('animal_type')\n",
    "print(NewData['animal_type'].unique())\n",
    "print(NewData['animal_type'].value_counts(normalize=True))\n",
    "plotHistogram(NewData['animal_type'], 'animal_type', 'xLabel', 'yLabel')\n",
    "\n",
    "NewData.loc[(NewData['outcome_type'] != 'Adoption') &\n",
    "         (NewData['outcome_type'] != 'Transfer'), 'outcome_type'] = 'Other'\n",
    "print('outcome_type')\n",
    "print(NewData['outcome_type'].unique())\n",
    "print(NewData['outcome_type'].value_counts(normalize=True))\n",
    "plotHistogram(NewData['outcome_type'], 'outcome_type', 'xLabel', 'yLabel')\n",
    "\n",
    "NewData['sex_upon_outcome'] = NewData['sex_upon_outcome'].str.extract(' ([A-Za-z]+)', expand=False)\n",
    "NewData['sex_upon_outcome'] = NewData['sex_upon_outcome'].fillna('Unknow')\n",
    "print('sex_upon_outcome')\n",
    "print(NewData['sex_upon_outcome'].unique())\n",
    "print(NewData['sex_upon_outcome'].value_counts(normalize=True))\n",
    "plotHistogram(NewData['sex_upon_outcome'], 'sex_upon_outcome', 'xLabel', 'yLabel')\n",
    "\n",
    "# dropna\n",
    "NewData = NewData.dropna()\n",
    "print('----------------------------------------')\n",
    "\n",
    "print('----------------------------------------')\n",
    "print('DateTime')\n",
    "# weeks months years convert to days\n",
    "AUO_Temp = NewData['age_upon_outcome'].str.split(' ', expand=True)\n",
    "AUO_Temp.columns = ['A', 'B']\n",
    "AUO_Temp['B'] = AUO_Temp['B'].replace(['day', 'days', 'week', 'weeks', 'month', 'months', 'year', 'years'], [1, 1, 7, 7, 30, 30, 365, 365])\n",
    "AUO_Temp = AUO_Temp.astype('int32')\n",
    "NewData['age_upon_outcome'] = AUO_Temp['A'] * AUO_Temp['B']\n",
    "print('age_upon_outcome')\n",
    "print(NewData['age_upon_outcome'].unique())\n",
    "print(NewData['age_upon_outcome'].value_counts(normalize=True))\n",
    "plotHistogram(NewData['age_upon_outcome'], 'age_upon_outcome', 'xLabel', 'yLabel')\n",
    "print('----------------------------------------')\n",
    "\n",
    "print('----------------------------------------')\n",
    "print('LEDef')\n",
    "NewData = LEDef(NewData, 'animal_type')\n",
    "NewData = LEDef(NewData, 'outcome_type')\n",
    "NewData = LEDef(NewData, 'sex_upon_outcome')\n",
    "print('----------------------------------------')\n",
    "    \n",
    "print('----------------------------------------')\n",
    "print('cut')\n",
    "NewData = cutDef(NewData, 'age_upon_outcome', 3)\n",
    "print('----------------------------------------')\n",
    "\n",
    "print('----------------------------------------')\n",
    "print('After：')\n",
    "print('Columns：', list(NewData.columns))\n",
    "print('')\n",
    "print('Shape：', NewData.shape)\n",
    "print('')\n",
    "print('NewData：')\n",
    "print(NewData.head(5))\n",
    "print('----------------------------------------')"
   ]
  },
  {
   "cell_type": "markdown",
   "metadata": {},
   "source": [
    "# Label Encode to OneHot Encode"
   ]
  },
  {
   "cell_type": "code",
   "execution_count": 5,
   "metadata": {
    "scrolled": true
   },
   "outputs": [
    {
     "name": "stdout",
     "output_type": "stream",
     "text": [
      "       age_upon_outcome_0  age_upon_outcome_1  age_upon_outcome_2  \\\n",
      "0                       1                   0                   0   \n",
      "1                       0                   1                   0   \n",
      "2                       0                   1                   0   \n",
      "3                       0                   0                   1   \n",
      "4                       1                   0                   0   \n",
      "...                   ...                 ...                 ...   \n",
      "78250                   1                   0                   0   \n",
      "78251                   1                   0                   0   \n",
      "78252                   0                   0                   1   \n",
      "78254                   1                   0                   0   \n",
      "78255                   1                   0                   0   \n",
      "\n",
      "       animal_type_0  animal_type_1  animal_type_2  outcome_type_0  \\\n",
      "0                  1              0              0               0   \n",
      "1                  0              1              0               0   \n",
      "2                  0              1              0               1   \n",
      "3                  0              1              0               0   \n",
      "4                  0              0              1               0   \n",
      "...              ...            ...            ...             ...   \n",
      "78250              0              1              0               1   \n",
      "78251              0              1              0               1   \n",
      "78252              0              1              0               1   \n",
      "78254              0              1              0               1   \n",
      "78255              0              1              0               1   \n",
      "\n",
      "       outcome_type_1  outcome_type_2  sex_upon_outcome_0  sex_upon_outcome_1  \\\n",
      "0                   0               1                   0                   1   \n",
      "1                   0               1                   1                   0   \n",
      "2                   0               0                   0                   1   \n",
      "3                   0               1                   0                   1   \n",
      "4                   1               0                   0                   0   \n",
      "...               ...             ...                 ...                 ...   \n",
      "78250               0               0                   0                   1   \n",
      "78251               0               0                   1                   0   \n",
      "78252               0               0                   0                   1   \n",
      "78254               0               0                   1                   0   \n",
      "78255               0               0                   0                   1   \n",
      "\n",
      "       sex_upon_outcome_2  \n",
      "0                       0  \n",
      "1                       0  \n",
      "2                       0  \n",
      "3                       0  \n",
      "4                       1  \n",
      "...                   ...  \n",
      "78250                   0  \n",
      "78251                   0  \n",
      "78252                   0  \n",
      "78254                   0  \n",
      "78255                   0  \n",
      "\n",
      "[78248 rows x 12 columns]\n"
     ]
    }
   ],
   "source": [
    "NewData2 = pd.DataFrame()\n",
    "for Col in list(NewData.columns):\n",
    "    DataTemp = pd.get_dummies(NewData[Col], prefix = Col)\n",
    "    NewData2 = pd.concat([NewData2, DataTemp], axis=1)\n",
    "print(NewData2)"
   ]
  },
  {
   "cell_type": "markdown",
   "metadata": {},
   "source": [
    "# 輸出資料"
   ]
  },
  {
   "cell_type": "code",
   "execution_count": 6,
   "metadata": {},
   "outputs": [],
   "source": [
    "NewData2.to_csv(writePath, index = False)"
   ]
  }
 ],
 "metadata": {
  "kernelspec": {
   "display_name": "Python 3",
   "language": "python",
   "name": "python3"
  },
  "language_info": {
   "codemirror_mode": {
    "name": "ipython",
    "version": 3
   },
   "file_extension": ".py",
   "mimetype": "text/x-python",
   "name": "python",
   "nbconvert_exporter": "python",
   "pygments_lexer": "ipython3",
   "version": "3.6.10"
  }
 },
 "nbformat": 4,
 "nbformat_minor": 4
}
